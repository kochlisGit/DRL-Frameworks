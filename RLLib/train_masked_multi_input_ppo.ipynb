{
 "cells": [
  {
   "cell_type": "markdown",
   "source": [
    "# Libraries"
   ],
   "metadata": {
    "collapsed": false
   }
  },
  {
   "cell_type": "code",
   "execution_count": 20,
   "metadata": {
    "collapsed": true
   },
   "outputs": [],
   "source": [
    "import gym\n",
    "import random\n",
    "import ray\n",
    "import tensorflow as tf\n",
    "import utils\n",
    "from ray.rllib.algorithms.ppo import PPO\n",
    "from ray.rllib.models import ModelCatalog\n",
    "from ray.rllib.models.tf.tf_modelv2 import TFModelV2\n",
    "from environments.knapsack import KnapsackEnv"
   ]
  },
  {
   "cell_type": "markdown",
   "source": [
    "# Define Custom Model\n",
    "* Multiple Inputs are concatenated\n",
    "* Action Mask is applied"
   ],
   "metadata": {
    "collapsed": false
   }
  },
  {
   "cell_type": "code",
   "execution_count": 21,
   "outputs": [],
   "source": [
    "class PPOCustomModel(TFModelV2):\n",
    "    def __init__(self, obs_space, action_space, num_outputs, model_config, name):\n",
    "        orig_space = getattr(obs_space, \"original_space\", obs_space)\n",
    "\n",
    "        assert (\n",
    "                isinstance(orig_space, gym.spaces.Dict)\n",
    "                and \"action_mask\" in orig_space.spaces\n",
    "                and \"observations\" in orig_space.spaces\n",
    "        )\n",
    "\n",
    "        super().__init__(\n",
    "            obs_space=obs_space,\n",
    "            action_space=action_space,\n",
    "            num_outputs=num_outputs,\n",
    "            model_config=model_config,\n",
    "            name=name\n",
    "        )\n",
    "\n",
    "        weight_inputs = tf.keras.layers.Input(shape=orig_space['observations']['observation_weights'].shape, name='observation_weights')\n",
    "        value_inputs = tf.keras.layers.Input(shape=orig_space['observations']['observation_values'].shape, name='observation_values')\n",
    "        knapsack_inputs = tf.keras.layers.Input(shape=orig_space['observations']['observation_knapsack'].shape, name='observation_knapsack')\n",
    "        inputs = tf.keras.layers.Concatenate(axis=-1)([weight_inputs, value_inputs, knapsack_inputs])\n",
    "        x = tf.keras.layers.Dense(units=256, activation='tanh', name='hidden_1')(inputs)\n",
    "        x = tf.keras.layers.Dense(units=256, activation='tanh', name='hidden_2')(x)\n",
    "        policy_out = tf.keras.layers.Dense(units=num_outputs, name='policy_out')(x)\n",
    "        value_out = tf.keras.layers.Dense(units=1, name='value_out')(x)\n",
    "        self.base_model = tf.keras.Model([weight_inputs, value_inputs, knapsack_inputs], [policy_out, value_out])\n",
    "\n",
    "    def forward(self, input_dict, state, seq_lens):\n",
    "        action_mask = input_dict['obs']['action_mask']\n",
    "        observations = input_dict['obs']['observations']\n",
    "\n",
    "        model_out, self._value_out = self.base_model(observations)\n",
    "        masked_model_out = model_out + tf.maximum(tf.math.log(action_mask), tf.float32.min)\n",
    "        return masked_model_out, state\n",
    "\n",
    "    def value_function(self):\n",
    "        return tf.reshape(self._value_out, [-1])"
   ],
   "metadata": {
    "collapsed": false
   }
  },
  {
   "cell_type": "markdown",
   "source": [
    "# Train Custom Masked Model"
   ],
   "metadata": {
    "collapsed": false
   }
  },
  {
   "cell_type": "code",
   "execution_count": 22,
   "outputs": [
    {
     "name": "stderr",
     "output_type": "stream",
     "text": [
      "2023-01-05 11:52:06,427\tINFO worker.py:1538 -- Started a local Ray instance.\n",
      "2023-01-05 11:52:07,897\tWARNING deprecation.py:47 -- DeprecationWarning: `algo = Algorithm(env='<class 'environments.knapsack.KnapsackEnv'>', ...)` has been deprecated. Use `algo = AlgorithmConfig().environment('<class 'environments.knapsack.KnapsackEnv'>').build()` instead. This will raise an error in the future!\n",
      "\u001B[2m\u001B[36m(RolloutWorker pid=10040)\u001B[0m 2023-01-05 11:52:12,406\tWARNING env.py:147 -- Your env doesn't have a .spec.max_episode_steps attribute. This is fine if you have set 'horizon' in your config dictionary, or `soft_horizon`. However, if you haven't, 'horizon' will default to infinity, and your environment will not be reset.\n",
      "2023-01-05 11:52:16,223\tWARNING util.py:66 -- Install gputil for GPU system monitoring.\n"
     ]
    },
    {
     "name": "stdout",
     "output_type": "stream",
     "text": [
      "Model: \"model\"\n",
      "__________________________________________________________________________________________________\n",
      " Layer (type)                   Output Shape         Param #     Connected to                     \n",
      "==================================================================================================\n",
      " observation_weights (InputLaye  [(None, 10)]        0           []                               \n",
      " r)                                                                                               \n",
      "                                                                                                  \n",
      " observation_values (InputLayer  [(None, 10)]        0           []                               \n",
      " )                                                                                                \n",
      "                                                                                                  \n",
      " observation_knapsack (InputLay  [(None, 1)]         0           []                               \n",
      " er)                                                                                              \n",
      "                                                                                                  \n",
      " concatenate (Concatenate)      (None, 21)           0           ['observation_weights[0][0]',    \n",
      "                                                                  'observation_values[0][0]',     \n",
      "                                                                  'observation_knapsack[0][0]']   \n",
      "                                                                                                  \n",
      " hidden_1 (Dense)               (None, 256)          5632        ['concatenate[0][0]']            \n",
      "                                                                                                  \n",
      " hidden_2 (Dense)               (None, 256)          65792       ['hidden_1[0][0]']               \n",
      "                                                                                                  \n",
      " policy_out (Dense)             (None, 10)           2570        ['hidden_2[0][0]']               \n",
      "                                                                                                  \n",
      " value_out (Dense)              (None, 1)            257         ['hidden_2[0][0]']               \n",
      "                                                                                                  \n",
      "==================================================================================================\n",
      "Total params: 74,251\n",
      "Trainable params: 74,251\n",
      "Non-trainable params: 0\n",
      "__________________________________________________________________________________________________\n"
     ]
    },
    {
     "name": "stderr",
     "output_type": "stream",
     "text": [
      "\u001B[2m\u001B[36m(RolloutWorker pid=10040)\u001B[0m C:\\Users\\kochlis\\AppData\\Local\\Programs\\Python\\Python39\\lib\\site-packages\\numpy\\core\\_methods.py:179: RuntimeWarning: overflow encountered in reduce\n",
      "\u001B[2m\u001B[36m(RolloutWorker pid=10040)\u001B[0m   ret = umr_sum(arr, axis, dtype, out, keepdims, where=where)\n",
      "C:\\Users\\kochlis\\AppData\\Local\\Programs\\Python\\Python39\\lib\\site-packages\\numpy\\core\\_methods.py:179: RuntimeWarning: overflow encountered in reduce\n",
      "  ret = umr_sum(arr, axis, dtype, out, keepdims, where=where)\n"
     ]
    },
    {
     "name": "stdout",
     "output_type": "stream",
     "text": [
      "Iteration: 0, Average Returns: 14.8\n",
      "Iteration: 1, Average Returns: 19.0\n",
      "Iteration: 2, Average Returns: 16.2\n",
      "Iteration: 3, Average Returns: 21.0\n",
      "Iteration: 4, Average Returns: 22.8\n",
      "Iteration: 5, Average Returns: 24.6\n",
      "Iteration: 6, Average Returns: 21.8\n",
      "Iteration: 7, Average Returns: 24.8\n",
      "Iteration: 8, Average Returns: 23.8\n",
      "Iteration: 9, Average Returns: 26.0\n"
     ]
    },
    {
     "data": {
      "text/plain": "<Figure size 432x288 with 1 Axes>",
      "image/png": "[encoded data removed]"
     },
     "metadata": {
      "needs_background": "light"
     },
     "output_type": "display_data"
    },
    {
     "data": {
      "text/plain": "[14.8, 19.0, 16.2, 21.0, 22.8, 24.6, 21.8, 24.8, 23.8, 26.0]"
     },
     "execution_count": 22,
     "metadata": {},
     "output_type": "execute_result"
    }
   ],
   "source": [
    "ray.shutdown()\n",
    "ray.init()\n",
    "ModelCatalog.register_custom_model(\"ppo_model\", PPOCustomModel)\n",
    "tf.random.set_seed(seed=0)\n",
    "random.seed(0)\n",
    "agent = PPO(env=KnapsackEnv, config={\n",
    "    'env_config': {},\n",
    "    'model': {\n",
    "        'vf_share_layers': True,\n",
    "        'custom_model': 'ppo_model',\n",
    "        'custom_model_config': {}\n",
    "    },\n",
    "    'num_workers': 2,\n",
    "    'rollout_fragment_length': 32,\n",
    "    'num_envs_per_worker': 1,\n",
    "    'batch_mode': 'complete_episodes',\n",
    "    'use_critic': True,\n",
    "    'use_gae': True,\n",
    "    'lambda': 0.95,\n",
    "    'clip_param': 0.3,\n",
    "    'kl_coeff': 0.2,\n",
    "    'entropy_coeff': 0.01,\n",
    "    'kl_target': 0.01,\n",
    "    'vf_loss_coeff': 0.5,\n",
    "    'shuffle_sequences': True,\n",
    "    'num_sgd_iter': 20,\n",
    "    'sgd_minibatch_size': 32,\n",
    "    'train_batch_size': 64,\n",
    "    'seed': 0,\n",
    "    'gamma': 0.99,\n",
    "    'lr': 0.0005,\n",
    "    'num_gpus': 1\n",
    "})\n",
    "agent.get_policy().model.base_model.summary(expand_nested=True)\n",
    "utils.train(agent=agent, train_iterations=10, eval_env=KnapsackEnv(env_config={}))"
   ],
   "metadata": {
    "collapsed": false
   }
  }
 ],
 "metadata": {
  "kernelspec": {
   "display_name": "Python 3",
   "language": "python",
   "name": "python3"
  },
  "language_info": {
   "codemirror_mode": {
    "name": "ipython",
    "version": 2
   },
   "file_extension": ".py",
   "mimetype": "text/x-python",
   "name": "python",
   "nbconvert_exporter": "python",
   "pygments_lexer": "ipython2",
   "version": "2.7.6"
  }
 },
 "nbformat": 4,
 "nbformat_minor": 0
}
