{
 "cells": [
  {
   "cell_type": "markdown",
   "source": [
    "# Libraries"
   ],
   "metadata": {
    "collapsed": false
   }
  },
  {
   "cell_type": "code",
   "execution_count": 24,
   "metadata": {
    "collapsed": true
   },
   "outputs": [],
   "source": [
    "import random\n",
    "import ray\n",
    "import tensorflow as tf\n",
    "import utils\n",
    "from gym import spaces\n",
    "from ray.rllib.algorithms.dqn.distributional_q_tf_model import DistributionalQTFModel\n",
    "from ray.rllib.algorithms.dqn.dqn import DQN\n",
    "from ray.rllib.models import ModelCatalog\n",
    "from ray.rllib.utils.typing import ModelConfigDict, TensorType\n",
    "from environments.cartpole import CartPoleEnv"
   ]
  },
  {
   "cell_type": "markdown",
   "source": [
    "# Custom Model"
   ],
   "metadata": {
    "collapsed": false
   }
  },
  {
   "cell_type": "code",
   "execution_count": 25,
   "outputs": [],
   "source": [
    "class DQNCustomModel(DistributionalQTFModel):\n",
    "    def __init__(\n",
    "            self,\n",
    "            obs_space: spaces.Space,\n",
    "            action_space: spaces.Space,\n",
    "            num_outputs: int,\n",
    "            model_config: ModelConfigDict,\n",
    "            name: str,\n",
    "            q_hiddens=(256,),\n",
    "            dueling=True,\n",
    "            num_atoms=51,\n",
    "            v_min=-1.0,\n",
    "            v_max=1.0,\n",
    "            use_noisy=True,\n",
    "            sigma0=0.5,\n",
    "            add_layer_norm=True,\n",
    "            verbose=True\n",
    "    ):\n",
    "        super().__init__(\n",
    "            obs_space,\n",
    "            action_space,\n",
    "            num_outputs,\n",
    "            model_config,\n",
    "            name,\n",
    "            q_hiddens=q_hiddens,\n",
    "            dueling=dueling,\n",
    "            num_atoms=num_atoms,\n",
    "            v_min=v_min,\n",
    "            v_max=v_max,\n",
    "            use_noisy=use_noisy,\n",
    "            sigma0=sigma0,\n",
    "            add_layer_norm=add_layer_norm\n",
    "        )\n",
    "\n",
    "        self.base_model = tf.keras.Sequential([\n",
    "            tf.keras.layers.Input(shape=obs_space.shape, name='observations'),\n",
    "            tf.keras.layers.Dense(units=256, activation='tanh', name='hidden'),\n",
    "            tf.keras.layers.Dense(units=num_outputs, activation='tanh', name='outputs')\n",
    "        ], name='base_model')\n",
    "\n",
    "        if verbose:\n",
    "            print('--- Value Network ---')\n",
    "            self.state_value_head.summary(expand_nested=True)\n",
    "\n",
    "            print('--- Q Network ---')\n",
    "            self.q_value_head.summary(expand_nested=True)\n",
    "\n",
    "    def forward(self, input_dict: dict[str, TensorType], state: list[TensorType], seq_lens: TensorType) -> (TensorType, list[TensorType]):\n",
    "        model_out = self.base_model(input_dict['obs'])\n",
    "        return model_out, state"
   ],
   "metadata": {
    "collapsed": false
   }
  },
  {
   "cell_type": "markdown",
   "source": [
    "# Default Model Train"
   ],
   "metadata": {
    "collapsed": false
   }
  },
  {
   "cell_type": "code",
   "execution_count": 26,
   "outputs": [
    {
     "name": "stderr",
     "output_type": "stream",
     "text": [
      "2022-12-31 22:03:51,510\tINFO worker.py:1518 -- Started a local Ray instance.\n",
      "2022-12-31 22:03:52,906\tWARNING deprecation.py:47 -- DeprecationWarning: `config['learning_starts']` has been deprecated. config['replay_buffer_config']['learning_starts'] This will raise an error in the future!\n",
      "2022-12-31 22:03:52,907\tWARNING deprecation.py:47 -- DeprecationWarning: `config['multiagent']['replay_mode']` has been deprecated. config['replay_buffer_config']['replay_mode'] This will raise an error in the future!\n",
      "2022-12-31 22:03:53,161\tWARNING util.py:65 -- Install gputil for GPU system monitoring.\n"
     ]
    },
    {
     "name": "stdout",
     "output_type": "stream",
     "text": [
      "Model: \"model_38\"\n",
      "__________________________________________________________________________________________________\n",
      " Layer (type)                   Output Shape         Param #     Connected to                     \n",
      "==================================================================================================\n",
      " observations (InputLayer)      [(None, 4)]          0           []                               \n",
      "                                                                                                  \n",
      " fc_1 (Dense)                   (None, 256)          1280        ['observations[0][0]']           \n",
      "                                                                                                  \n",
      " fc_out (Dense)                 (None, 256)          65792       ['fc_1[0][0]']                   \n",
      "                                                                                                  \n",
      " value_out (Dense)              (None, 1)            257         ['fc_1[0][0]']                   \n",
      "                                                                                                  \n",
      "==================================================================================================\n",
      "Total params: 67,329\n",
      "Trainable params: 67,329\n",
      "Non-trainable params: 0\n",
      "__________________________________________________________________________________________________\n",
      "Iteration: 0, Average Returns: 136.2\n",
      "Iteration: 1, Average Returns: 152.6\n",
      "Iteration: 2, Average Returns: 128.4\n",
      "Iteration: 3, Average Returns: 129.4\n",
      "Iteration: 4, Average Returns: 107.4\n",
      "Iteration: 5, Average Returns: 33.0\n",
      "Iteration: 6, Average Returns: 12.0\n",
      "Iteration: 7, Average Returns: 11.8\n",
      "Iteration: 8, Average Returns: 13.0\n",
      "Iteration: 9, Average Returns: 53.0\n",
      "Iteration: 10, Average Returns: 83.4\n",
      "Iteration: 11, Average Returns: 109.6\n",
      "Iteration: 12, Average Returns: 139.4\n",
      "Iteration: 13, Average Returns: 288.4\n",
      "Iteration: 14, Average Returns: 286.8\n",
      "Iteration: 15, Average Returns: 114.2\n",
      "Iteration: 16, Average Returns: 81.8\n",
      "Iteration: 17, Average Returns: 185.8\n",
      "Iteration: 18, Average Returns: 210.6\n",
      "Iteration: 19, Average Returns: 309.2\n",
      "Iteration: 20, Average Returns: 99.2\n",
      "Iteration: 21, Average Returns: 113.4\n",
      "Iteration: 22, Average Returns: 117.2\n",
      "Iteration: 23, Average Returns: 127.0\n",
      "Iteration: 24, Average Returns: 270.2\n",
      "Iteration: 25, Average Returns: 369.4\n",
      "Iteration: 26, Average Returns: 322.2\n",
      "Iteration: 27, Average Returns: 116.0\n",
      "Iteration: 28, Average Returns: 242.6\n",
      "Iteration: 29, Average Returns: 108.4\n",
      "Iteration: 30, Average Returns: 172.0\n",
      "Iteration: 31, Average Returns: 142.0\n",
      "Iteration: 32, Average Returns: 151.8\n",
      "Iteration: 33, Average Returns: 220.8\n",
      "Iteration: 34, Average Returns: 128.0\n",
      "Iteration: 35, Average Returns: 122.6\n",
      "Iteration: 36, Average Returns: 146.2\n",
      "Iteration: 37, Average Returns: 160.8\n",
      "Iteration: 38, Average Returns: 119.8\n",
      "Iteration: 39, Average Returns: 152.2\n",
      "Iteration: 40, Average Returns: 141.4\n",
      "Iteration: 41, Average Returns: 131.2\n",
      "Iteration: 42, Average Returns: 224.6\n",
      "Iteration: 43, Average Returns: 118.0\n",
      "Iteration: 44, Average Returns: 271.8\n",
      "Iteration: 45, Average Returns: 141.6\n",
      "Iteration: 46, Average Returns: 123.4\n",
      "Iteration: 47, Average Returns: 205.8\n",
      "Iteration: 48, Average Returns: 113.8\n",
      "Iteration: 49, Average Returns: 157.4\n"
     ]
    },
    {
     "data": {
      "text/plain": "<Figure size 432x288 with 1 Axes>",
      "image/png": "[encoded data removed]"
     },
     "metadata": {
      "needs_background": "light"
     },
     "output_type": "display_data"
    },
    {
     "data": {
      "text/plain": "[136.2,\n 152.6,\n 128.4,\n 129.4,\n 107.4,\n 33.0,\n 12.0,\n 11.8,\n 13.0,\n 53.0,\n 83.4,\n 109.6,\n 139.4,\n 288.4,\n 286.8,\n 114.2,\n 81.8,\n 185.8,\n 210.6,\n 309.2,\n 99.2,\n 113.4,\n 117.2,\n 127.0,\n 270.2,\n 369.4,\n 322.2,\n 116.0,\n 242.6,\n 108.4,\n 172.0,\n 142.0,\n 151.8,\n 220.8,\n 128.0,\n 122.6,\n 146.2,\n 160.8,\n 119.8,\n 152.2,\n 141.4,\n 131.2,\n 224.6,\n 118.0,\n 271.8,\n 141.6,\n 123.4,\n 205.8,\n 113.8,\n 157.4]"
     },
     "execution_count": 26,
     "metadata": {},
     "output_type": "execute_result"
    }
   ],
   "source": [
    "ray.shutdown()\n",
    "ray.init()\n",
    "tf.random.set_seed(seed=0)\n",
    "random.seed(0)\n",
    "agent = DQN(env=CartPoleEnv, config={\n",
    "    'env_config': {'verbose': False},\n",
    "    'replay_buffer_config' : {\n",
    "        \"type\": 'MultiAgentPrioritizedReplayBuffer',\n",
    "        \"capacity\": 50000,\n",
    "        'prioritized_replay': True,\n",
    "        'prioritized_replay_alpha': 0.6,\n",
    "        'prioritized_replay_beta': 0.4,\n",
    "        'prioritized_replay_eps': 1e-6,\n",
    "        'replay_sequence_length': 1,\n",
    "    },\n",
    "    'num_steps_sampled_before_learning_starts': 5000,\n",
    "    'target_network_update_freq': 2500,\n",
    "    'rollout_fragment_length': 4,\n",
    "    'train_batch_size': 64,\n",
    "    'n_step': 3,\n",
    "    'double_q': True,\n",
    "    'dueling': True,\n",
    "    'noisy': True,\n",
    "    'num_atoms': 51,\n",
    "    'v_min': -500.0,\n",
    "    'v_max': 500.0,\n",
    "    'exploration_config': {\n",
    "        'epsilon_timesteps': 2,\n",
    "        'final_epsilon': 0.0\n",
    "    },\n",
    "    'seed': 0,\n",
    "    'gamma': 0.99,\n",
    "    'lr': 0.001,\n",
    "    'num_gpus': 1\n",
    "})\n",
    "agent.get_policy().model.base_model.summary(expand_nested=True)\n",
    "utils.train(agent=agent, eval_env=CartPoleEnv(env_config={'verbose': False}))"
   ],
   "metadata": {
    "collapsed": false
   }
  },
  {
   "cell_type": "markdown",
   "source": [
    "#  Custom Model Train"
   ],
   "metadata": {
    "collapsed": false
   }
  },
  {
   "cell_type": "code",
   "execution_count": 27,
   "outputs": [
    {
     "name": "stderr",
     "output_type": "stream",
     "text": [
      "2022-12-31 22:42:22,101\tINFO worker.py:1518 -- Started a local Ray instance.\n",
      "2022-12-31 22:42:29,115\tWARNING deprecation.py:47 -- DeprecationWarning: `config['learning_starts']` has been deprecated. config['replay_buffer_config']['learning_starts'] This will raise an error in the future!\n",
      "2022-12-31 22:42:29,116\tWARNING deprecation.py:47 -- DeprecationWarning: `config['multiagent']['replay_mode']` has been deprecated. config['replay_buffer_config']['replay_mode'] This will raise an error in the future!\n"
     ]
    },
    {
     "name": "stdout",
     "output_type": "stream",
     "text": [
      "--- Value Network ---\n",
      "Model: \"model_45\"\n",
      "_________________________________________________________________\n",
      " Layer (type)                Output Shape              Param #   \n",
      "=================================================================\n",
      " model_out (InputLayer)      [(None, 256)]             0         \n",
      "                                                                 \n",
      " noisy_layer_66 (NoisyLayer)  (None, 256)              131584    \n",
      "                                                                 \n",
      " noisy_layer_67 (NoisyLayer)  (None, 51)               26214     \n",
      "                                                                 \n",
      "=================================================================\n",
      "Total params: 157,798\n",
      "Trainable params: 157,798\n",
      "Non-trainable params: 0\n",
      "_________________________________________________________________\n",
      "--- Q Network ---\n",
      "Model: \"model_44\"\n",
      "_________________________________________________________________\n",
      " Layer (type)                Output Shape              Param #   \n",
      "=================================================================\n",
      " model_out (InputLayer)      [(None, 256)]             0         \n",
      "                                                                 \n",
      " noisy_layer_64 (NoisyLayer)  (None, 256)              131584    \n",
      "                                                                 \n",
      " noisy_layer_65 (NoisyLayer)  (None, 102)              52428     \n",
      "                                                                 \n",
      " lambda_16 (Lambda)          [(None, 2),               0         \n",
      "                              (51,),                             \n",
      "                              (None, 2, 51),                     \n",
      "                              (None, 2, 51),                     \n",
      "                              (None, 2, 51)]                     \n",
      "                                                                 \n",
      "=================================================================\n",
      "Total params: 184,012\n",
      "Trainable params: 184,012\n",
      "Non-trainable params: 0\n",
      "_________________________________________________________________\n",
      "--- Value Network ---\n",
      "Model: \"model_47\"\n",
      "_________________________________________________________________\n",
      " Layer (type)                Output Shape              Param #   \n",
      "=================================================================\n",
      " model_out (InputLayer)      [(None, 256)]             0         \n",
      "                                                                 \n",
      " noisy_layer_70 (NoisyLayer)  (None, 256)              131584    \n",
      "                                                                 \n",
      " noisy_layer_71 (NoisyLayer)  (None, 51)               26214     \n",
      "                                                                 \n",
      "=================================================================\n",
      "Total params: 157,798\n",
      "Trainable params: 157,798\n",
      "Non-trainable params: 0\n",
      "_________________________________________________________________\n",
      "--- Q Network ---\n",
      "Model: \"model_46\"\n",
      "_________________________________________________________________\n",
      " Layer (type)                Output Shape              Param #   \n",
      "=================================================================\n",
      " model_out (InputLayer)      [(None, 256)]             0         \n",
      "                                                                 \n",
      " noisy_layer_68 (NoisyLayer)  (None, 256)              131584    \n",
      "                                                                 \n",
      " noisy_layer_69 (NoisyLayer)  (None, 102)              52428     \n",
      "                                                                 \n",
      " lambda_17 (Lambda)          [(None, 2),               0         \n",
      "                              (51,),                             \n",
      "                              (None, 2, 51),                     \n",
      "                              (None, 2, 51),                     \n",
      "                              (None, 2, 51)]                     \n",
      "                                                                 \n",
      "=================================================================\n",
      "Total params: 184,012\n",
      "Trainable params: 184,012\n",
      "Non-trainable params: 0\n",
      "_________________________________________________________________\n"
     ]
    },
    {
     "name": "stderr",
     "output_type": "stream",
     "text": [
      "2022-12-31 22:42:29,384\tWARNING util.py:65 -- Install gputil for GPU system monitoring.\n"
     ]
    },
    {
     "name": "stdout",
     "output_type": "stream",
     "text": [
      "Model: \"base_model\"\n",
      "_________________________________________________________________\n",
      " Layer (type)                Output Shape              Param #   \n",
      "=================================================================\n",
      " hidden (Dense)              (None, 256)               1280      \n",
      "                                                                 \n",
      " outputs (Dense)             (None, 256)               65792     \n",
      "                                                                 \n",
      "=================================================================\n",
      "Total params: 67,072\n",
      "Trainable params: 67,072\n",
      "Non-trainable params: 0\n",
      "_________________________________________________________________\n",
      "Iteration: 0, Average Returns: 34.8\n",
      "Iteration: 1, Average Returns: 44.4\n",
      "Iteration: 2, Average Returns: 36.0\n",
      "Iteration: 3, Average Returns: 43.0\n",
      "Iteration: 4, Average Returns: 29.4\n",
      "Iteration: 5, Average Returns: 19.4\n",
      "Iteration: 6, Average Returns: 20.8\n",
      "Iteration: 7, Average Returns: 43.6\n",
      "Iteration: 8, Average Returns: 24.4\n",
      "Iteration: 9, Average Returns: 31.6\n",
      "Iteration: 10, Average Returns: 16.6\n",
      "Iteration: 11, Average Returns: 56.8\n",
      "Iteration: 12, Average Returns: 69.0\n",
      "Iteration: 13, Average Returns: 66.4\n",
      "Iteration: 14, Average Returns: 87.4\n",
      "Iteration: 15, Average Returns: 102.2\n",
      "Iteration: 16, Average Returns: 91.6\n",
      "Iteration: 17, Average Returns: 108.4\n",
      "Iteration: 18, Average Returns: 92.4\n",
      "Iteration: 19, Average Returns: 108.8\n",
      "Iteration: 20, Average Returns: 122.4\n",
      "Iteration: 21, Average Returns: 128.6\n",
      "Iteration: 22, Average Returns: 108.6\n",
      "Iteration: 23, Average Returns: 112.0\n",
      "Iteration: 24, Average Returns: 118.2\n",
      "Iteration: 25, Average Returns: 108.0\n",
      "Iteration: 26, Average Returns: 109.2\n",
      "Iteration: 27, Average Returns: 104.2\n",
      "Iteration: 28, Average Returns: 101.0\n",
      "Iteration: 29, Average Returns: 99.4\n",
      "Iteration: 30, Average Returns: 105.8\n",
      "Iteration: 31, Average Returns: 103.4\n",
      "Iteration: 32, Average Returns: 118.0\n",
      "Iteration: 33, Average Returns: 110.8\n",
      "Iteration: 34, Average Returns: 109.8\n",
      "Iteration: 35, Average Returns: 129.2\n",
      "Iteration: 36, Average Returns: 119.8\n",
      "Iteration: 37, Average Returns: 204.8\n",
      "Iteration: 38, Average Returns: 166.0\n",
      "Iteration: 39, Average Returns: 124.0\n",
      "Iteration: 40, Average Returns: 120.2\n",
      "Iteration: 41, Average Returns: 112.6\n",
      "Iteration: 42, Average Returns: 246.8\n",
      "Iteration: 43, Average Returns: 140.8\n",
      "Iteration: 44, Average Returns: 137.4\n",
      "Iteration: 45, Average Returns: 165.6\n",
      "Iteration: 46, Average Returns: 200.4\n",
      "Iteration: 47, Average Returns: 198.2\n",
      "Iteration: 48, Average Returns: 151.4\n",
      "Iteration: 49, Average Returns: 125.6\n"
     ]
    },
    {
     "data": {
      "text/plain": "<Figure size 432x288 with 1 Axes>",
      "image/png": "[encoded data removed]"
     },
     "metadata": {
      "needs_background": "light"
     },
     "output_type": "display_data"
    },
    {
     "data": {
      "text/plain": "[34.8,\n 44.4,\n 36.0,\n 43.0,\n 29.4,\n 19.4,\n 20.8,\n 43.6,\n 24.4,\n 31.6,\n 16.6,\n 56.8,\n 69.0,\n 66.4,\n 87.4,\n 102.2,\n 91.6,\n 108.4,\n 92.4,\n 108.8,\n 122.4,\n 128.6,\n 108.6,\n 112.0,\n 118.2,\n 108.0,\n 109.2,\n 104.2,\n 101.0,\n 99.4,\n 105.8,\n 103.4,\n 118.0,\n 110.8,\n 109.8,\n 129.2,\n 119.8,\n 204.8,\n 166.0,\n 124.0,\n 120.2,\n 112.6,\n 246.8,\n 140.8,\n 137.4,\n 165.6,\n 200.4,\n 198.2,\n 151.4,\n 125.6]"
     },
     "execution_count": 27,
     "metadata": {},
     "output_type": "execute_result"
    }
   ],
   "source": [
    "ray.shutdown()\n",
    "ray.init()\n",
    "ModelCatalog.register_custom_model(\"dqn_model\", DQNCustomModel)\n",
    "tf.random.set_seed(seed=0)\n",
    "random.seed(0)\n",
    "agent = DQN(env=CartPoleEnv, config={\n",
    "    'env_config': {'verbose': False},\n",
    "    'model': {\n",
    "        'custom_model': 'dqn_model',\n",
    "        'custom_model_config': {}\n",
    "    },\n",
    "    'replay_buffer_config' : {\n",
    "        \"type\": 'MultiAgentPrioritizedReplayBuffer',\n",
    "        \"capacity\": 50000,\n",
    "        'prioritized_replay': True,\n",
    "        'prioritized_replay_alpha': 0.6,\n",
    "        'prioritized_replay_beta': 0.4,\n",
    "        'prioritized_replay_eps': 1e-6,\n",
    "        'replay_sequence_length': 1,\n",
    "    },\n",
    "    'num_steps_sampled_before_learning_starts': 5000,\n",
    "    'target_network_update_freq': 2500,\n",
    "    'rollout_fragment_length': 4,\n",
    "    'train_batch_size': 64,\n",
    "    'n_step': 3,\n",
    "    'double_q': True,\n",
    "    'dueling': True,\n",
    "    'noisy': True,\n",
    "    'num_atoms': 51,\n",
    "    'v_min': -500.0,\n",
    "    'v_max': 500.0,\n",
    "    'exploration_config': {\n",
    "        'epsilon_timesteps': 2,\n",
    "        'final_epsilon': 0.0\n",
    "    },\n",
    "    'seed': 0,\n",
    "    'gamma': 0.99,\n",
    "    'lr': 0.001,\n",
    "    'num_gpus': 1\n",
    "})\n",
    "agent.get_policy().model.base_model.summary(expand_nested=True)\n",
    "utils.train(agent=agent, eval_env=CartPoleEnv(env_config={'verbose': False}))"
   ],
   "metadata": {
    "collapsed": false
   }
  }
 ],
 "metadata": {
  "kernelspec": {
   "display_name": "Python 3",
   "language": "python",
   "name": "python3"
  },
  "language_info": {
   "codemirror_mode": {
    "name": "ipython",
    "version": 2
   },
   "file_extension": ".py",
   "mimetype": "text/x-python",
   "name": "python",
   "nbconvert_exporter": "python",
   "pygments_lexer": "ipython2",
   "version": "2.7.6"
  }
 },
 "nbformat": 4,
 "nbformat_minor": 0
}
