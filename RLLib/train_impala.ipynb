{
 "cells": [
  {
   "cell_type": "markdown",
   "source": [
    "# Libraries"
   ],
   "metadata": {
    "collapsed": false
   }
  },
  {
   "cell_type": "code",
   "execution_count": 1,
   "metadata": {
    "collapsed": true
   },
   "outputs": [],
   "source": [
    "import random\n",
    "import ray\n",
    "import tensorflow as tf\n",
    "import utils\n",
    "from ray.rllib.algorithms.impala import Impala\n",
    "from ray.rllib.models import ModelCatalog\n",
    "from ray.rllib.models.tf.tf_modelv2 import TFModelV2\n",
    "from environments.cartpole import CartPoleEnv"
   ]
  },
  {
   "cell_type": "markdown",
   "source": [
    "# Custom Model"
   ],
   "metadata": {
    "collapsed": false
   }
  },
  {
   "cell_type": "code",
   "execution_count": 2,
   "outputs": [],
   "source": [
    "class ImpalaCustomModel(TFModelV2):\n",
    "    def __init__(self, obs_space, action_space, num_outputs, model_config, name):\n",
    "        super().__init__(\n",
    "            obs_space=obs_space,\n",
    "            action_space=action_space,\n",
    "            num_outputs=num_outputs,\n",
    "            model_config=model_config,\n",
    "            name=name\n",
    "        )\n",
    "\n",
    "        inputs = tf.keras.layers.Input(shape=obs_space.shape, name='observations')\n",
    "        x = tf.keras.layers.Dense(units=256, activation='tanh', name='hidden_1')(inputs)\n",
    "        x = tf.keras.layers.Dense(units=256, activation='tanh', name='hidden_2')(x)\n",
    "        policy_out = tf.keras.layers.Dense(units=num_outputs, name='policy_out')(x)\n",
    "        value_out = tf.keras.layers.Dense(units=1, name='value_out')(x)\n",
    "        self.base_model = tf.keras.Model(inputs, [policy_out, value_out])\n",
    "\n",
    "    def forward(self, input_dict, state, seq_lens):\n",
    "        model_out, self._value_out = self.base_model(input_dict[\"obs\"])\n",
    "        return model_out, state\n",
    "\n",
    "    def value_function(self):\n",
    "        return tf.reshape(self._value_out, [-1])"
   ],
   "metadata": {
    "collapsed": false
   }
  },
  {
   "cell_type": "markdown",
   "source": [
    "# Default Model Train"
   ],
   "metadata": {
    "collapsed": false
   }
  },
  {
   "cell_type": "code",
   "execution_count": 3,
   "outputs": [
    {
     "name": "stderr",
     "output_type": "stream",
     "text": [
      "2023-01-03 16:41:22,550\tINFO worker.py:1538 -- Started a local Ray instance.\n",
      "2023-01-03 16:41:23,854\tWARNING deprecation.py:47 -- DeprecationWarning: `algo = Algorithm(env='<class 'environments.cartpole.CartPoleEnv'>', ...)` has been deprecated. Use `algo = AlgorithmConfig().environment('<class 'environments.cartpole.CartPoleEnv'>').build()` instead. This will raise an error in the future!\n",
      "2023-01-03 16:41:23,855\tINFO algorithm_config.py:2503 -- Your framework setting is 'tf', meaning you are using static-graph mode. Set framework='tf2' to enable eager execution with tf2.x. You may also then want to set eager_tracing=True in order to reach similar execution speed as with static-graph mode.\n",
      "2023-01-03 16:41:23,882\tINFO algorithm.py:501 -- Current log_level is WARN. For more information, set 'log_level': 'INFO' / 'DEBUG' or use the -v and -vv flags.\n",
      "\u001B[2m\u001B[36m(RolloutWorker pid=16948)\u001B[0m 2023-01-03 16:41:31,297\tWARNING env.py:147 -- Your env doesn't have a .spec.max_episode_steps attribute. This is fine if you have set 'horizon' in your config dictionary, or `soft_horizon`. However, if you haven't, 'horizon' will default to infinity, and your environment will not be reset.\n",
      "2023-01-03 16:41:35,332\tINFO trainable.py:172 -- Trainable.setup took 11.452 seconds. If your trainable is slow to initialize, consider setting reuse_actors=True to reduce actor creation overheads.\n",
      "2023-01-03 16:41:35,334\tWARNING util.py:66 -- Install gputil for GPU system monitoring.\n"
     ]
    },
    {
     "name": "stdout",
     "output_type": "stream",
     "text": [
      "Model: \"model\"\n",
      "__________________________________________________________________________________________________\n",
      " Layer (type)                   Output Shape         Param #     Connected to                     \n",
      "==================================================================================================\n",
      " observations (InputLayer)      [(None, 4)]          0           []                               \n",
      "                                                                                                  \n",
      " fc_1 (Dense)                   (None, 256)          1280        ['observations[0][0]']           \n",
      "                                                                                                  \n",
      " fc_2 (Dense)                   (None, 256)          65792       ['fc_1[0][0]']                   \n",
      "                                                                                                  \n",
      " fc_out (Dense)                 (None, 2)            514         ['fc_2[0][0]']                   \n",
      "                                                                                                  \n",
      " value_out (Dense)              (None, 1)            257         ['fc_2[0][0]']                   \n",
      "                                                                                                  \n",
      "==================================================================================================\n",
      "Total params: 67,843\n",
      "Trainable params: 67,843\n",
      "Non-trainable params: 0\n",
      "__________________________________________________________________________________________________\n"
     ]
    },
    {
     "name": "stderr",
     "output_type": "stream",
     "text": [
      "2023-01-03 16:41:37,112\tWARNING deprecation.py:47 -- DeprecationWarning: `concat_samples` has been deprecated. Use `concat_samples() from rllib.policy.sample_batch` instead. This will raise an error in the future!\n"
     ]
    },
    {
     "name": "stdout",
     "output_type": "stream",
     "text": [
      "Iteration: 0, Average Returns: 56.4\n",
      "Iteration: 1, Average Returns: 149.0\n",
      "Iteration: 2, Average Returns: 155.2\n",
      "Iteration: 3, Average Returns: 153.6\n",
      "Iteration: 4, Average Returns: 129.8\n",
      "Iteration: 5, Average Returns: 205.4\n",
      "Iteration: 6, Average Returns: 151.6\n",
      "Iteration: 7, Average Returns: 101.2\n",
      "Iteration: 8, Average Returns: 118.0\n",
      "Iteration: 9, Average Returns: 56.6\n",
      "Iteration: 10, Average Returns: 35.8\n",
      "Iteration: 11, Average Returns: 106.2\n",
      "Iteration: 12, Average Returns: 187.6\n",
      "Iteration: 13, Average Returns: 166.2\n",
      "Iteration: 14, Average Returns: 228.8\n",
      "Iteration: 15, Average Returns: 238.0\n",
      "Iteration: 16, Average Returns: 231.2\n",
      "Iteration: 17, Average Returns: 275.4\n",
      "Iteration: 18, Average Returns: 232.0\n",
      "Iteration: 19, Average Returns: 157.4\n",
      "Iteration: 20, Average Returns: 223.8\n",
      "Iteration: 21, Average Returns: 373.6\n",
      "Iteration: 22, Average Returns: 287.0\n",
      "Iteration: 23, Average Returns: 47.2\n",
      "Iteration: 24, Average Returns: 324.6\n",
      "Iteration: 25, Average Returns: 324.2\n",
      "Iteration: 26, Average Returns: 259.4\n",
      "Iteration: 27, Average Returns: 357.6\n",
      "Iteration: 28, Average Returns: 500.0\n",
      "Iteration: 29, Average Returns: 500.0\n",
      "Iteration: 30, Average Returns: 442.6\n",
      "Iteration: 31, Average Returns: 426.6\n",
      "Iteration: 32, Average Returns: 422.0\n",
      "Iteration: 33, Average Returns: 288.0\n",
      "Iteration: 34, Average Returns: 302.0\n",
      "Iteration: 35, Average Returns: 114.6\n",
      "Iteration: 36, Average Returns: 473.4\n",
      "Iteration: 37, Average Returns: 430.8\n",
      "Iteration: 38, Average Returns: 500.0\n",
      "Iteration: 39, Average Returns: 500.0\n",
      "Iteration: 40, Average Returns: 100.6\n",
      "Iteration: 41, Average Returns: 500.0\n",
      "Iteration: 42, Average Returns: 348.8\n",
      "Iteration: 43, Average Returns: 369.0\n",
      "Iteration: 44, Average Returns: 459.0\n",
      "Iteration: 45, Average Returns: 424.4\n",
      "Iteration: 46, Average Returns: 479.8\n",
      "Iteration: 47, Average Returns: 271.0\n",
      "Iteration: 48, Average Returns: 21.8\n",
      "Iteration: 49, Average Returns: 500.0\n"
     ]
    },
    {
     "data": {
      "text/plain": "<Figure size 432x288 with 1 Axes>",
      "image/png": "[encoded data removed]"
     },
     "metadata": {
      "needs_background": "light"
     },
     "output_type": "display_data"
    },
    {
     "data": {
      "text/plain": "[56.4,\n 149.0,\n 155.2,\n 153.6,\n 129.8,\n 205.4,\n 151.6,\n 101.2,\n 118.0,\n 56.6,\n 35.8,\n 106.2,\n 187.6,\n 166.2,\n 228.8,\n 238.0,\n 231.2,\n 275.4,\n 232.0,\n 157.4,\n 223.8,\n 373.6,\n 287.0,\n 47.2,\n 324.6,\n 324.2,\n 259.4,\n 357.6,\n 500.0,\n 500.0,\n 442.6,\n 426.6,\n 422.0,\n 288.0,\n 302.0,\n 114.6,\n 473.4,\n 430.8,\n 500.0,\n 500.0,\n 100.6,\n 500.0,\n 348.8,\n 369.0,\n 459.0,\n 424.4,\n 479.8,\n 271.0,\n 21.8,\n 500.0]"
     },
     "execution_count": 3,
     "metadata": {},
     "output_type": "execute_result"
    }
   ],
   "source": [
    "ray.shutdown()\n",
    "ray.init()\n",
    "tf.random.set_seed(seed=0)\n",
    "random.seed(0)\n",
    "agent = Impala(env=CartPoleEnv, config={\n",
    "    'env_config': {'verbose': False},\n",
    "    'model': {\n",
    "        'vf_share_layers': True\n",
    "    },\n",
    "    'num_workers': 8,\n",
    "    'num_envs_per_worker': 1,\n",
    "    'batch_mode': 'complete_episodes',\n",
    "    'vtrace': True,\n",
    "    'vtrace_clip_rho_threshold': 1.0,\n",
    "    'vtrace_clip_pg_rho_threshold': 1.0,\n",
    "    'vtrace_drop_last_ts': False,\n",
    "    'replay_proportion': 0.1,\n",
    "    'num_sgd_iter': 1,\n",
    "    'entropy_coeff': 0.01,\n",
    "    'vf_loss_coeff': 0.5,\n",
    "    'seed': 0,\n",
    "    'gamma': 0.99,\n",
    "    'lr': 0.0005,\n",
    "    'num_gpus': 1\n",
    "})\n",
    "agent.get_policy().model.base_model.summary(expand_nested=True)\n",
    "utils.train(agent=agent, eval_env=CartPoleEnv(env_config={'verbose': False}))"
   ],
   "metadata": {
    "collapsed": false
   }
  },
  {
   "cell_type": "markdown",
   "source": [
    "# Custom Model Train"
   ],
   "metadata": {
    "collapsed": false
   }
  },
  {
   "cell_type": "code",
   "execution_count": 4,
   "outputs": [
    {
     "name": "stderr",
     "output_type": "stream",
     "text": [
      "2023-01-03 16:57:30,848\tINFO worker.py:1538 -- Started a local Ray instance.\n",
      "2023-01-03 16:57:32,298\tWARNING deprecation.py:47 -- DeprecationWarning: `algo = Algorithm(env='<class 'environments.cartpole.CartPoleEnv'>', ...)` has been deprecated. Use `algo = AlgorithmConfig().environment('<class 'environments.cartpole.CartPoleEnv'>').build()` instead. This will raise an error in the future!\n",
      "\u001B[2m\u001B[36m(RolloutWorker pid=5428)\u001B[0m 2023-01-03 16:57:40,005\tWARNING env.py:147 -- Your env doesn't have a .spec.max_episode_steps attribute. This is fine if you have set 'horizon' in your config dictionary, or `soft_horizon`. However, if you haven't, 'horizon' will default to infinity, and your environment will not be reset.\n",
      "2023-01-03 16:57:44,171\tINFO trainable.py:172 -- Trainable.setup took 11.867 seconds. If your trainable is slow to initialize, consider setting reuse_actors=True to reduce actor creation overheads.\n",
      "2023-01-03 16:57:44,172\tWARNING util.py:66 -- Install gputil for GPU system monitoring.\n"
     ]
    },
    {
     "name": "stdout",
     "output_type": "stream",
     "text": [
      "Model: \"model\"\n",
      "__________________________________________________________________________________________________\n",
      " Layer (type)                   Output Shape         Param #     Connected to                     \n",
      "==================================================================================================\n",
      " observations (InputLayer)      [(None, 4)]          0           []                               \n",
      "                                                                                                  \n",
      " hidden_1 (Dense)               (None, 256)          1280        ['observations[0][0]']           \n",
      "                                                                                                  \n",
      " hidden_2 (Dense)               (None, 256)          65792       ['hidden_1[0][0]']               \n",
      "                                                                                                  \n",
      " policy_out (Dense)             (None, 2)            514         ['hidden_2[0][0]']               \n",
      "                                                                                                  \n",
      " value_out (Dense)              (None, 1)            257         ['hidden_2[0][0]']               \n",
      "                                                                                                  \n",
      "==================================================================================================\n",
      "Total params: 67,843\n",
      "Trainable params: 67,843\n",
      "Non-trainable params: 0\n",
      "__________________________________________________________________________________________________\n",
      "Iteration: 0, Average Returns: 71.4\n",
      "Iteration: 1, Average Returns: 76.6\n"
     ]
    },
    {
     "name": "stderr",
     "output_type": "stream",
     "text": [
      "Exception in thread Thread-13:\n",
      "Traceback (most recent call last):\n",
      "  File \"C:\\Users\\kochlis\\AppData\\Local\\Programs\\Python\\Python39\\lib\\threading.py\", line 980, in _bootstrap_inner\n",
      "    self.run()\n",
      "  File \"C:\\Users\\kochlis\\AppData\\Local\\Programs\\Python\\Python39\\lib\\site-packages\\ray\\rllib\\execution\\learner_thread.py\", line 74, in run\n",
      "    self.step()\n",
      "  File \"C:\\Users\\kochlis\\AppData\\Local\\Programs\\Python\\Python39\\lib\\site-packages\\ray\\rllib\\execution\\multi_gpu_learner_thread.py\", line 143, in step\n",
      "    buffer_idx, released = self.ready_tower_stacks_buffer.get()\n",
      "  File \"C:\\Users\\kochlis\\AppData\\Local\\Programs\\Python\\Python39\\lib\\site-packages\\ray\\rllib\\execution\\minibatch_buffer.py\", line 48, in get\n",
      "    self.buffers[self.idx] = self.inqueue.get(timeout=self.timeout)\n",
      "  File \"C:\\Users\\kochlis\\AppData\\Local\\Programs\\Python\\Python39\\lib\\queue.py\", line 179, in get\n",
      "    raise Empty\n",
      "_queue.Empty\n"
     ]
    },
    {
     "name": "stdout",
     "output_type": "stream",
     "text": [
      "Iteration: 2, Average Returns: 123.8\n",
      "Iteration: 3, Average Returns: 43.8\n",
      "Iteration: 4, Average Returns: 50.8\n",
      "Iteration: 5, Average Returns: 165.0\n",
      "Iteration: 6, Average Returns: 64.8\n",
      "Iteration: 7, Average Returns: 123.6\n",
      "Iteration: 8, Average Returns: 67.4\n",
      "Iteration: 9, Average Returns: 128.2\n",
      "Iteration: 10, Average Returns: 166.8\n",
      "Iteration: 11, Average Returns: 189.2\n",
      "Iteration: 12, Average Returns: 204.6\n",
      "Iteration: 13, Average Returns: 196.6\n",
      "Iteration: 14, Average Returns: 278.2\n",
      "Iteration: 15, Average Returns: 152.6\n",
      "Iteration: 16, Average Returns: 205.6\n",
      "Iteration: 17, Average Returns: 102.8\n",
      "Iteration: 18, Average Returns: 98.0\n",
      "Iteration: 19, Average Returns: 261.0\n",
      "Iteration: 20, Average Returns: 186.2\n",
      "Iteration: 21, Average Returns: 256.8\n",
      "Iteration: 22, Average Returns: 238.4\n",
      "Iteration: 23, Average Returns: 204.2\n",
      "Iteration: 24, Average Returns: 259.6\n",
      "Iteration: 25, Average Returns: 159.8\n",
      "Iteration: 26, Average Returns: 316.2\n",
      "Iteration: 27, Average Returns: 399.2\n",
      "Iteration: 28, Average Returns: 151.2\n",
      "Iteration: 29, Average Returns: 316.6\n",
      "Iteration: 30, Average Returns: 431.4\n",
      "Iteration: 31, Average Returns: 239.2\n",
      "Iteration: 32, Average Returns: 478.0\n",
      "Iteration: 33, Average Returns: 260.0\n",
      "Iteration: 34, Average Returns: 21.8\n",
      "Iteration: 35, Average Returns: 131.4\n",
      "Iteration: 36, Average Returns: 207.2\n",
      "Iteration: 37, Average Returns: 348.8\n",
      "Iteration: 38, Average Returns: 87.6\n",
      "Iteration: 39, Average Returns: 172.2\n",
      "Iteration: 40, Average Returns: 500.0\n",
      "Iteration: 41, Average Returns: 430.0\n",
      "Iteration: 42, Average Returns: 500.0\n",
      "Iteration: 43, Average Returns: 167.8\n",
      "Iteration: 44, Average Returns: 500.0\n",
      "Iteration: 45, Average Returns: 500.0\n",
      "Iteration: 46, Average Returns: 311.0\n",
      "Iteration: 47, Average Returns: 500.0\n",
      "Iteration: 48, Average Returns: 500.0\n",
      "Iteration: 49, Average Returns: 309.8\n"
     ]
    },
    {
     "data": {
      "text/plain": "<Figure size 432x288 with 1 Axes>",
      "image/png": "[encoded data removed]"
     },
     "metadata": {
      "needs_background": "light"
     },
     "output_type": "display_data"
    },
    {
     "data": {
      "text/plain": "[71.4,\n 76.6,\n 123.8,\n 43.8,\n 50.8,\n 165.0,\n 64.8,\n 123.6,\n 67.4,\n 128.2,\n 166.8,\n 189.2,\n 204.6,\n 196.6,\n 278.2,\n 152.6,\n 205.6,\n 102.8,\n 98.0,\n 261.0,\n 186.2,\n 256.8,\n 238.4,\n 204.2,\n 259.6,\n 159.8,\n 316.2,\n 399.2,\n 151.2,\n 316.6,\n 431.4,\n 239.2,\n 478.0,\n 260.0,\n 21.8,\n 131.4,\n 207.2,\n 348.8,\n 87.6,\n 172.2,\n 500.0,\n 430.0,\n 500.0,\n 167.8,\n 500.0,\n 500.0,\n 311.0,\n 500.0,\n 500.0,\n 309.8]"
     },
     "execution_count": 4,
     "metadata": {},
     "output_type": "execute_result"
    }
   ],
   "source": [
    "ray.shutdown()\n",
    "ray.init()\n",
    "tf.random.set_seed(seed=0)\n",
    "ModelCatalog.register_custom_model(\"impala_model\", ImpalaCustomModel)\n",
    "random.seed(0)\n",
    "agent = Impala(env=CartPoleEnv, config={\n",
    "    'env_config': {'verbose': False},\n",
    "    'model': {\n",
    "        'vf_share_layers': True,\n",
    "        'custom_model': 'impala_model',\n",
    "        'custom_model_config': {}\n",
    "    },\n",
    "    'num_workers': 8,\n",
    "    'num_envs_per_worker': 1,\n",
    "    'batch_mode': 'complete_episodes',\n",
    "    'vtrace': True,\n",
    "    'vtrace_clip_rho_threshold': 1.0,\n",
    "    'vtrace_clip_pg_rho_threshold': 1.0,\n",
    "    'vtrace_drop_last_ts': False,\n",
    "    'replay_proportion': 0.1,\n",
    "    'num_sgd_iter': 1,\n",
    "    'entropy_coeff': 0.01,\n",
    "    'vf_loss_coeff': 0.5,\n",
    "    'seed': 0,\n",
    "    'gamma': 0.99,\n",
    "    'lr': 0.0005,\n",
    "    'num_gpus': 1\n",
    "})\n",
    "agent.get_policy().model.base_model.summary(expand_nested=True)\n",
    "utils.train(agent=agent, eval_env=CartPoleEnv(env_config={'verbose': False}))"
   ],
   "metadata": {
    "collapsed": false
   }
  }
 ],
 "metadata": {
  "kernelspec": {
   "display_name": "Python 3",
   "language": "python",
   "name": "python3"
  },
  "language_info": {
   "codemirror_mode": {
    "name": "ipython",
    "version": 2
   },
   "file_extension": ".py",
   "mimetype": "text/x-python",
   "name": "python",
   "nbconvert_exporter": "python",
   "pygments_lexer": "ipython2",
   "version": "2.7.6"
  }
 },
 "nbformat": 4,
 "nbformat_minor": 0
}
