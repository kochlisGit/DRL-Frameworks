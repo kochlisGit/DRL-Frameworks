{
 "cells": [
  {
   "cell_type": "markdown",
   "source": [
    "# Import Libraries"
   ],
   "metadata": {
    "collapsed": false
   }
  },
  {
   "cell_type": "code",
   "execution_count": 10,
   "metadata": {
    "collapsed": true
   },
   "outputs": [],
   "source": [
    "import gym\n",
    "import numpy as np\n",
    "import random\n",
    "import ray\n",
    "import tensorflow as tf\n",
    "import utils\n",
    "from ray.rllib.algorithms.impala import Impala\n",
    "from ray.rllib.models import ModelCatalog\n",
    "from ray.rllib.models.tf.tf_modelv2 import TFModelV2"
   ]
  },
  {
   "cell_type": "markdown",
   "source": [
    "# Define Environment"
   ],
   "metadata": {
    "collapsed": false
   }
  },
  {
   "cell_type": "code",
   "execution_count": 13,
   "outputs": [],
   "source": [
    "class MountainCarContinuous(gym.Env):\n",
    "    def __init__(self, env_config: dict or None = None):\n",
    "        self._env = gym.make('MountainCarContinuous-v0')\n",
    "\n",
    "        self.action_space = self._env.action_space\n",
    "        self.observation_space = self._env.observation_space\n",
    "\n",
    "    def reset(self) -> np.ndarray:\n",
    "        return self._env.reset()\n",
    "\n",
    "    def step(self, action: np.ndarray) -> (np.ndarray, float, bool, dict):\n",
    "        return self._env.step(action=action)\n",
    "\n",
    "    def render(self, mode='human'):\n",
    "        self._env.render()"
   ],
   "metadata": {
    "collapsed": false,
    "pycharm": {
     "name": "#%%\n"
    }
   }
  },
  {
   "cell_type": "markdown",
   "source": [
    "# Build Default Impala Agent"
   ],
   "metadata": {
    "collapsed": false
   }
  },
  {
   "cell_type": "code",
   "execution_count": 14,
   "outputs": [
    {
     "name": "stderr",
     "output_type": "stream",
     "text": [
      "2023-04-09 10:49:02,056\tINFO worker.py:1518 -- Started a local Ray instance.\n",
      "\u001B[2m\u001B[36m(RolloutWorker pid=17688)\u001B[0m 2023-04-09 10:49:13,655\tWARNING env.py:142 -- Your env doesn't have a .spec.max_episode_steps attribute. This is fine if you have set 'horizon' in your config dictionary, or `soft_horizon`. However, if you haven't, 'horizon' will default to infinity, and your environment will not be reset.\n",
      "2023-04-09 10:49:19,379\tINFO trainable.py:160 -- Trainable.setup took 14.502 seconds. If your trainable is slow to initialize, consider setting reuse_actors=True to reduce actor creation overheads.\n",
      "2023-04-09 10:49:19,382\tWARNING util.py:65 -- Install gputil for GPU system monitoring.\n"
     ]
    },
    {
     "name": "stdout",
     "output_type": "stream",
     "text": [
      "Model: \"model\"\n",
      "__________________________________________________________________________________________________\n",
      " Layer (type)                   Output Shape         Param #     Connected to                     \n",
      "==================================================================================================\n",
      " observations (InputLayer)      [(None, 2)]          0           []                               \n",
      "                                                                                                  \n",
      " fc_1 (Dense)                   (None, 256)          768         ['observations[0][0]']           \n",
      "                                                                                                  \n",
      " fc_2 (Dense)                   (None, 256)          65792       ['fc_1[0][0]']                   \n",
      "                                                                                                  \n",
      " fc_out (Dense)                 (None, 2)            514         ['fc_2[0][0]']                   \n",
      "                                                                                                  \n",
      " value_out (Dense)              (None, 1)            257         ['fc_2[0][0]']                   \n",
      "                                                                                                  \n",
      "==================================================================================================\n",
      "Total params: 67,331\n",
      "Trainable params: 67,331\n",
      "Non-trainable params: 0\n",
      "__________________________________________________________________________________________________\n"
     ]
    }
   ],
   "source": [
    "ray.shutdown()\n",
    "ray.init()\n",
    "tf.random.set_seed(seed=0)\n",
    "np.random.seed(0)\n",
    "random.seed(0)\n",
    "agent = Impala(env=MountainCarContinuous, config={\n",
    "    'env_config': {},\n",
    "    'model': {'vf_share_layers': True},\n",
    "    'num_workers': 4,\n",
    "    'num_envs_per_worker': 1,\n",
    "    'batch_mode': 'complete_episodes',\n",
    "    'vtrace': True,\n",
    "    'vtrace_clip_rho_threshold': 1.0,\n",
    "    'vtrace_clip_pg_rho_threshold': 1.0,\n",
    "    'vtrace_drop_last_ts': False,\n",
    "    'replay_proportion': 0.0,\n",
    "    'num_sgd_iter': 2,\n",
    "    'entropy_coeff': 0.01,\n",
    "    'vf_loss_coeff': 0.5,\n",
    "    'normalize_actions': True,\n",
    "    'seed': 0,\n",
    "    'gamma': 0.99,\n",
    "    'lr': 0.0005,\n",
    "    'num_gpus': 1\n",
    "})\n",
    "agent.get_policy().model.base_model.summary(expand_nested=True)"
   ],
   "metadata": {
    "collapsed": false,
    "pycharm": {
     "name": "#%%\n"
    }
   }
  },
  {
   "cell_type": "markdown",
   "source": [
    "# Training"
   ],
   "metadata": {
    "collapsed": false
   }
  },
  {
   "cell_type": "code",
   "execution_count": 15,
   "outputs": [
    {
     "name": "stderr",
     "output_type": "stream",
     "text": [
      "2023-04-09 10:49:24,623\tWARNING deprecation.py:47 -- DeprecationWarning: `concat_samples` has been deprecated. Use `concat_samples() from rllib.policy.sample_batch` instead. This will raise an error in the future!\n"
     ]
    },
    {
     "name": "stdout",
     "output_type": "stream",
     "text": [
      "Iteration: 0, Average Returns: -42.05707392119764\n",
      "Iteration: 1, Average Returns: -68.39938098094248\n",
      "Iteration: 2, Average Returns: -49.542381863872585\n",
      "Iteration: 3, Average Returns: -76.08158388888226\n",
      "Iteration: 4, Average Returns: -79.66597598703129\n",
      "Iteration: 5, Average Returns: -85.70348598779395\n",
      "Iteration: 6, Average Returns: -60.101427164123585\n",
      "Iteration: 7, Average Returns: -89.74992940589807\n",
      "Iteration: 8, Average Returns: -92.27855545629774\n",
      "Iteration: 9, Average Returns: -91.4800310116884\n",
      "Iteration: 10, Average Returns: -92.7916632787335\n",
      "Iteration: 11, Average Returns: -74.60626670332371\n",
      "Iteration: 12, Average Returns: -96.60972638476112\n",
      "Iteration: 13, Average Returns: -95.9805162409501\n",
      "Iteration: 14, Average Returns: -96.29086396640264\n",
      "Iteration: 15, Average Returns: -97.92580771107426\n",
      "Iteration: 16, Average Returns: -98.09252845744217\n",
      "Iteration: 17, Average Returns: -97.16451088179585\n",
      "Iteration: 18, Average Returns: -97.2404756713847\n",
      "Iteration: 19, Average Returns: -96.22220110208227\n",
      "Iteration: 20, Average Returns: -97.98986066167028\n",
      "Iteration: 21, Average Returns: -98.09187541473757\n",
      "Iteration: 22, Average Returns: -98.91530509994081\n",
      "Iteration: 23, Average Returns: -97.72941086377064\n",
      "Iteration: 24, Average Returns: -98.29956421464303\n",
      "Iteration: 25, Average Returns: -98.26343319740255\n",
      "Iteration: 26, Average Returns: -99.73371265837149\n",
      "Iteration: 27, Average Returns: -98.6857416710215\n",
      "Iteration: 28, Average Returns: -97.81729848474974\n",
      "Iteration: 29, Average Returns: -98.88474555994247\n",
      "Iteration: 30, Average Returns: -99.32415788678378\n",
      "Iteration: 31, Average Returns: -98.89807455354857\n",
      "Iteration: 32, Average Returns: -99.15686823409013\n",
      "Iteration: 33, Average Returns: -99.27927092234536\n",
      "Iteration: 34, Average Returns: -98.64466689852082\n",
      "Iteration: 35, Average Returns: -97.99231283582152\n",
      "Iteration: 36, Average Returns: -98.98905116135784\n",
      "Iteration: 37, Average Returns: -99.38443112264459\n",
      "Iteration: 38, Average Returns: -99.48033684218424\n",
      "Iteration: 39, Average Returns: -99.54117466757951\n",
      "Iteration: 40, Average Returns: -98.56157661734028\n",
      "Iteration: 41, Average Returns: -98.79539136960969\n",
      "Iteration: 42, Average Returns: -99.29726026905928\n",
      "Iteration: 43, Average Returns: -99.30996261037536\n",
      "Iteration: 44, Average Returns: -99.35417309786693\n",
      "Iteration: 45, Average Returns: -98.78597361736803\n",
      "Iteration: 46, Average Returns: -99.17287009528208\n",
      "Iteration: 47, Average Returns: -99.4884084678475\n",
      "Iteration: 48, Average Returns: -99.55032143303504\n",
      "Iteration: 49, Average Returns: -99.28467287681539\n"
     ]
    },
    {
     "data": {
      "text/plain": "<Figure size 432x288 with 1 Axes>",
      "image/png": "[encoded data removed]"
     },
     "metadata": {
      "needs_background": "light"
     },
     "output_type": "display_data"
    },
    {
     "data": {
      "text/plain": "[-42.05707392119764,\n -68.39938098094248,\n -49.542381863872585,\n -76.08158388888226,\n -79.66597598703129,\n -85.70348598779395,\n -60.101427164123585,\n -89.74992940589807,\n -92.27855545629774,\n -91.4800310116884,\n -92.7916632787335,\n -74.60626670332371,\n -96.60972638476112,\n -95.9805162409501,\n -96.29086396640264,\n -97.92580771107426,\n -98.09252845744217,\n -97.16451088179585,\n -97.2404756713847,\n -96.22220110208227,\n -97.98986066167028,\n -98.09187541473757,\n -98.91530509994081,\n -97.72941086377064,\n -98.29956421464303,\n -98.26343319740255,\n -99.73371265837149,\n -98.6857416710215,\n -97.81729848474974,\n -98.88474555994247,\n -99.32415788678378,\n -98.89807455354857,\n -99.15686823409013,\n -99.27927092234536,\n -98.64466689852082,\n -97.99231283582152,\n -98.98905116135784,\n -99.38443112264459,\n -99.48033684218424,\n -99.54117466757951,\n -98.56157661734028,\n -98.79539136960969,\n -99.29726026905928,\n -99.30996261037536,\n -99.35417309786693,\n -98.78597361736803,\n -99.17287009528208,\n -99.4884084678475,\n -99.55032143303504,\n -99.28467287681539]"
     },
     "execution_count": 15,
     "metadata": {},
     "output_type": "execute_result"
    }
   ],
   "source": [
    "utils.train(agent=agent, eval_env=MountainCarContinuous(env_config={}))"
   ],
   "metadata": {
    "collapsed": false,
    "pycharm": {
     "name": "#%%\n"
    }
   }
  },
  {
   "cell_type": "markdown",
   "source": [
    "# Custom Model with Tanh Final (Since Actions=(-1.0, 1.0))"
   ],
   "metadata": {
    "collapsed": false
   }
  },
  {
   "cell_type": "code",
   "execution_count": 16,
   "outputs": [],
   "source": [
    "class ImpalaCustomModel(TFModelV2):\n",
    "    def __init__(self, obs_space, action_space, num_outputs, model_config, name):\n",
    "        super().__init__(\n",
    "            obs_space=obs_space,\n",
    "            action_space=action_space,\n",
    "            num_outputs=num_outputs,\n",
    "            model_config=model_config,\n",
    "            name=name\n",
    "        )\n",
    "\n",
    "        inputs = tf.keras.layers.Input(shape=obs_space.shape, name='observations')\n",
    "        x = tf.keras.layers.Dense(units=256, activation='tanh', name='hidden_1')(inputs)\n",
    "        x = tf.keras.layers.Dense(units=256, activation='tanh', name='hidden_2')(x)\n",
    "        policy_out = tf.keras.layers.Dense(units=num_outputs, activation='tanh', name='policy_out')(x)\n",
    "        value_out = tf.keras.layers.Dense(units=1, name='value_out')(x)\n",
    "        self.base_model = tf.keras.Model(inputs, [policy_out, value_out])\n",
    "\n",
    "    def forward(self, input_dict, state, seq_lens):\n",
    "        model_out, self._value_out = self.base_model(input_dict[\"obs\"])\n",
    "        return model_out, state\n",
    "\n",
    "    def value_function(self):\n",
    "        return tf.reshape(self._value_out, [-1])"
   ],
   "metadata": {
    "collapsed": false,
    "pycharm": {
     "name": "#%%\n"
    }
   }
  },
  {
   "cell_type": "markdown",
   "source": [
    "# Training Impala with Final Tanh"
   ],
   "metadata": {
    "collapsed": false
   }
  },
  {
   "cell_type": "code",
   "execution_count": 18,
   "outputs": [
    {
     "name": "stderr",
     "output_type": "stream",
     "text": [
      "2023-04-09 11:03:40,095\tINFO worker.py:1518 -- Started a local Ray instance.\n",
      "\u001B[2m\u001B[36m(RolloutWorker pid=9692)\u001B[0m 2023-04-09 11:03:51,077\tWARNING env.py:142 -- Your env doesn't have a .spec.max_episode_steps attribute. This is fine if you have set 'horizon' in your config dictionary, or `soft_horizon`. However, if you haven't, 'horizon' will default to infinity, and your environment will not be reset.\n",
      "2023-04-09 11:03:55,173\tINFO trainable.py:160 -- Trainable.setup took 12.599 seconds. If your trainable is slow to initialize, consider setting reuse_actors=True to reduce actor creation overheads.\n",
      "2023-04-09 11:03:55,177\tWARNING util.py:65 -- Install gputil for GPU system monitoring.\n"
     ]
    },
    {
     "name": "stdout",
     "output_type": "stream",
     "text": [
      "Model: \"model\"\n",
      "__________________________________________________________________________________________________\n",
      " Layer (type)                   Output Shape         Param #     Connected to                     \n",
      "==================================================================================================\n",
      " observations (InputLayer)      [(None, 2)]          0           []                               \n",
      "                                                                                                  \n",
      " hidden_1 (Dense)               (None, 256)          768         ['observations[0][0]']           \n",
      "                                                                                                  \n",
      " hidden_2 (Dense)               (None, 256)          65792       ['hidden_1[0][0]']               \n",
      "                                                                                                  \n",
      " policy_out (Dense)             (None, 2)            514         ['hidden_2[0][0]']               \n",
      "                                                                                                  \n",
      " value_out (Dense)              (None, 1)            257         ['hidden_2[0][0]']               \n",
      "                                                                                                  \n",
      "==================================================================================================\n",
      "Total params: 67,331\n",
      "Trainable params: 67,331\n",
      "Non-trainable params: 0\n",
      "__________________________________________________________________________________________________\n",
      "Iteration: 0, Average Returns: -51.75335150130045\n"
     ]
    },
    {
     "name": "stderr",
     "output_type": "stream",
     "text": [
      "Exception in thread Thread-115:\n",
      "Traceback (most recent call last):\n",
      "  File \"C:\\Users\\Kohli\\AppData\\Local\\Programs\\Python\\Python39\\lib\\threading.py\", line 980, in _bootstrap_inner\n",
      "    self.run()\n",
      "  File \"C:\\Users\\Kohli\\AppData\\Local\\Programs\\Python\\Python39\\lib\\site-packages\\ray\\rllib\\execution\\learner_thread.py\", line 74, in run\n",
      "    self.step()\n",
      "  File \"C:\\Users\\Kohli\\AppData\\Local\\Programs\\Python\\Python39\\lib\\site-packages\\ray\\rllib\\execution\\multi_gpu_learner_thread.py\", line 143, in step\n",
      "    buffer_idx, released = self.ready_tower_stacks_buffer.get()\n",
      "  File \"C:\\Users\\Kohli\\AppData\\Local\\Programs\\Python\\Python39\\lib\\site-packages\\ray\\rllib\\execution\\minibatch_buffer.py\", line 48, in get\n",
      "    self.buffers[self.idx] = self.inqueue.get(timeout=self.timeout)\n",
      "  File \"C:\\Users\\Kohli\\AppData\\Local\\Programs\\Python\\Python39\\lib\\queue.py\", line 179, in get\n",
      "    raise Empty\n",
      "_queue.Empty\n"
     ]
    },
    {
     "name": "stdout",
     "output_type": "stream",
     "text": [
      "Iteration: 1, Average Returns: -43.471037791894055\n",
      "Iteration: 2, Average Returns: -35.197099526654185\n",
      "Iteration: 3, Average Returns: -29.686354206674274\n",
      "Iteration: 4, Average Returns: -23.80339232754921\n",
      "Iteration: 5, Average Returns: -21.89982421615245\n",
      "Iteration: 6, Average Returns: -21.668603950598275\n",
      "Iteration: 7, Average Returns: -20.51711361224622\n",
      "Iteration: 8, Average Returns: -16.30308594759864\n",
      "Iteration: 9, Average Returns: -16.592877235397687\n",
      "Iteration: 10, Average Returns: -14.363640606777114\n",
      "Iteration: 11, Average Returns: -13.809133474397616\n",
      "Iteration: 12, Average Returns: -14.651328225665035\n",
      "Iteration: 13, Average Returns: -14.199005837419914\n",
      "Iteration: 14, Average Returns: -14.359710513397413\n",
      "Iteration: 15, Average Returns: -13.679341222112555\n",
      "Iteration: 16, Average Returns: -13.923901359780615\n",
      "Iteration: 17, Average Returns: -13.851171213794265\n",
      "Iteration: 18, Average Returns: -13.675943559026427\n",
      "Iteration: 19, Average Returns: -13.51627861809873\n",
      "Iteration: 20, Average Returns: -14.710733638003514\n",
      "Iteration: 21, Average Returns: -15.23339601632857\n",
      "Iteration: 22, Average Returns: -14.533525917809973\n",
      "Iteration: 23, Average Returns: -14.62662691765305\n",
      "Iteration: 24, Average Returns: -14.634238053414805\n",
      "Iteration: 25, Average Returns: -15.371063154170546\n",
      "Iteration: 26, Average Returns: -15.456260448497781\n",
      "Iteration: 27, Average Returns: -13.820367591969788\n",
      "Iteration: 28, Average Returns: -13.635886916833893\n",
      "Iteration: 29, Average Returns: -13.902002207399724\n",
      "Iteration: 30, Average Returns: -13.511819318765777\n",
      "Iteration: 31, Average Returns: -14.714742567366951\n",
      "Iteration: 32, Average Returns: -14.433585912532905\n",
      "Iteration: 33, Average Returns: -13.808372677268324\n",
      "Iteration: 34, Average Returns: -15.32822336381994\n",
      "Iteration: 35, Average Returns: -16.312426321127912\n",
      "Iteration: 36, Average Returns: -16.999138428511923\n",
      "Iteration: 37, Average Returns: -17.382968512527164\n",
      "Iteration: 38, Average Returns: -16.055784909398447\n",
      "Iteration: 39, Average Returns: -14.18540102919319\n",
      "Iteration: 40, Average Returns: -14.327503283761217\n",
      "Iteration: 41, Average Returns: -14.435571558512567\n",
      "Iteration: 42, Average Returns: -14.244321545842942\n",
      "Iteration: 43, Average Returns: -13.303332411480653\n",
      "Iteration: 44, Average Returns: -13.496238551104856\n",
      "Iteration: 45, Average Returns: -14.125934660347422\n",
      "Iteration: 46, Average Returns: -14.032558836021835\n",
      "Iteration: 47, Average Returns: -15.894208121709022\n",
      "Iteration: 48, Average Returns: -15.848132454953973\n",
      "Iteration: 49, Average Returns: -15.556633074669474\n"
     ]
    },
    {
     "data": {
      "text/plain": "<Figure size 432x288 with 1 Axes>",
      "image/png": "[encoded data removed]"
     },
     "metadata": {
      "needs_background": "light"
     },
     "output_type": "display_data"
    },
    {
     "data": {
      "text/plain": "[-51.75335150130045,\n -43.471037791894055,\n -35.197099526654185,\n -29.686354206674274,\n -23.80339232754921,\n -21.89982421615245,\n -21.668603950598275,\n -20.51711361224622,\n -16.30308594759864,\n -16.592877235397687,\n -14.363640606777114,\n -13.809133474397616,\n -14.651328225665035,\n -14.199005837419914,\n -14.359710513397413,\n -13.679341222112555,\n -13.923901359780615,\n -13.851171213794265,\n -13.675943559026427,\n -13.51627861809873,\n -14.710733638003514,\n -15.23339601632857,\n -14.533525917809973,\n -14.62662691765305,\n -14.634238053414805,\n -15.371063154170546,\n -15.456260448497781,\n -13.820367591969788,\n -13.635886916833893,\n -13.902002207399724,\n -13.511819318765777,\n -14.714742567366951,\n -14.433585912532905,\n -13.808372677268324,\n -15.32822336381994,\n -16.312426321127912,\n -16.999138428511923,\n -17.382968512527164,\n -16.055784909398447,\n -14.18540102919319,\n -14.327503283761217,\n -14.435571558512567,\n -14.244321545842942,\n -13.303332411480653,\n -13.496238551104856,\n -14.125934660347422,\n -14.032558836021835,\n -15.894208121709022,\n -15.848132454953973,\n -15.556633074669474]"
     },
     "execution_count": 18,
     "metadata": {},
     "output_type": "execute_result"
    }
   ],
   "source": [
    "ray.shutdown()\n",
    "ray.init()\n",
    "tf.random.set_seed(seed=0)\n",
    "np.random.seed(0)\n",
    "random.seed(0)\n",
    "ModelCatalog.register_custom_model(\"impala_model\", ImpalaCustomModel)\n",
    "agent = Impala(env=MountainCarContinuous, config={\n",
    "    'env_config': {},\n",
    "    'model': {\n",
    "        'vf_share_layers': True,\n",
    "        'custom_model': 'impala_model',\n",
    "        'custom_model_config': {}\n",
    "    },\n",
    "    'num_workers': 4,\n",
    "    'num_envs_per_worker': 1,\n",
    "    'batch_mode': 'complete_episodes',\n",
    "    'vtrace': True,\n",
    "    'vtrace_clip_rho_threshold': 1.0,\n",
    "    'vtrace_clip_pg_rho_threshold': 1.0,\n",
    "    'vtrace_drop_last_ts': False,\n",
    "    'replay_proportion': 0.0,\n",
    "    'num_sgd_iter': 2,\n",
    "    'entropy_coeff': 0.01,\n",
    "    'vf_loss_coeff': 0.5,\n",
    "    'normalize_actions': False,\n",
    "    'seed': 0,\n",
    "    'gamma': 0.99,\n",
    "    'lr': 0.0005,\n",
    "    'num_gpus': 1\n",
    "})\n",
    "agent.get_policy().model.base_model.summary(expand_nested=True)\n",
    "utils.train(agent=agent, eval_env=MountainCarContinuous(env_config={}))"
   ],
   "metadata": {
    "collapsed": false,
    "pycharm": {
     "name": "#%%\n"
    }
   }
  }
 ],
 "metadata": {
  "kernelspec": {
   "display_name": "Python 3",
   "language": "python",
   "name": "python3"
  },
  "language_info": {
   "codemirror_mode": {
    "name": "ipython",
    "version": 2
   },
   "file_extension": ".py",
   "mimetype": "text/x-python",
   "name": "python",
   "nbconvert_exporter": "python",
   "pygments_lexer": "ipython2",
   "version": "2.7.6"
  }
 },
 "nbformat": 4,
 "nbformat_minor": 0
}