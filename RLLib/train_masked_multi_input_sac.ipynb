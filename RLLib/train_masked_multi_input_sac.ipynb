{
 "cells": [
  {
   "cell_type": "markdown",
   "source": [
    "# Libraries"
   ],
   "metadata": {
    "collapsed": false
   }
  },
  {
   "cell_type": "code",
   "execution_count": 13,
   "metadata": {
    "collapsed": true
   },
   "outputs": [],
   "source": [
    "import gym\n",
    "import random\n",
    "import ray\n",
    "import tensorflow as tf\n",
    "import utils\n",
    "from gym import spaces\n",
    "from ray.rllib.algorithms.sac import SAC\n",
    "from ray.rllib.models.tf.tf_modelv2 import TFModelV2\n",
    "from ray.rllib.algorithms.sac.sac_tf_model import SACTFModel\n",
    "from ray.rllib.models import ModelCatalog\n",
    "from ray.rllib.utils.typing import ModelConfigDict, TensorType\n",
    "from environments.knapsack import KnapsackEnv"
   ]
  },
  {
   "cell_type": "markdown",
   "source": [
    "# Define Custom Model"
   ],
   "metadata": {
    "collapsed": false
   }
  },
  {
   "cell_type": "code",
   "execution_count": 14,
   "outputs": [],
   "source": [
    "class CustomTFModel(TFModelV2):\n",
    "    def __init__(self, obs_space, action_space, num_outputs, model_config, name):\n",
    "        super().__init__(\n",
    "            obs_space=obs_space,\n",
    "            action_space=action_space,\n",
    "            num_outputs=num_outputs,\n",
    "            model_config=model_config,\n",
    "            name=name\n",
    "        )\n",
    "\n",
    "        weight_inputs = tf.keras.layers.Input(shape=obs_space['observations']['observation_weights'].shape, name='observation_weights')\n",
    "        value_inputs = tf.keras.layers.Input(shape=obs_space['observations']['observation_values'].shape, name='observation_values')\n",
    "        knapsack_inputs = tf.keras.layers.Input(shape=obs_space['observations']['observation_knapsack'].shape, name='observation_knapsack')\n",
    "        inputs = tf.keras.layers.Concatenate(axis=-1)([weight_inputs, value_inputs, knapsack_inputs])\n",
    "        x = tf.keras.layers.Dense(units=256, activation='tanh', name='hidden_1')(inputs)\n",
    "        x = tf.keras.layers.Dense(units=256, activation='tanh', name='hidden_2')(x)\n",
    "        policy_out = tf.keras.layers.Dense(units=num_outputs, name='policy_out')(x)\n",
    "        value_out = tf.keras.layers.Dense(units=1, name='value_out')(x)\n",
    "        self.base_model = tf.keras.Model([weight_inputs, value_inputs, knapsack_inputs], [policy_out, value_out])\n",
    "\n",
    "    def forward(self, input_dict, state, seq_lens):\n",
    "        action_mask = input_dict['obs']['action_mask']\n",
    "        observations = input_dict['obs']['observations']\n",
    "\n",
    "        model_out, self._value_out = self.base_model(observations)\n",
    "        masked_model_out = model_out + tf.maximum(tf.math.log(action_mask), tf.float32.min)\n",
    "        return masked_model_out, state\n",
    "\n",
    "    def value_function(self):\n",
    "        return tf.reshape(self._value_out, [-1])\n",
    "\n",
    "\n",
    "class SACCustomModel(SACTFModel):\n",
    "    def __init__(\n",
    "            self,\n",
    "            obs_space: spaces.Space,\n",
    "            action_space: spaces.Space,\n",
    "            num_outputs: int,\n",
    "            model_config: ModelConfigDict,\n",
    "            name: str,\n",
    "            policy_model_config: ModelConfigDict=None,\n",
    "            q_model_config: ModelConfigDict=None,\n",
    "            twin_q: bool=False,\n",
    "            initial_alpha: float=1.0,\n",
    "            target_entropy: float=None,\n",
    "    ):\n",
    "        super().__init__(\n",
    "            obs_space=obs_space,\n",
    "            action_space=action_space,\n",
    "            num_outputs=num_outputs,\n",
    "            model_config=model_config,\n",
    "            name=name,\n",
    "            policy_model_config=policy_model_config,\n",
    "            q_model_config=q_model_config,\n",
    "            twin_q=twin_q,\n",
    "            initial_alpha=initial_alpha,\n",
    "            target_entropy=target_entropy\n",
    "        )\n",
    "\n",
    "    def build_policy_model(self, obs_space, num_outputs, policy_model_config, name):\n",
    "        orig_space = getattr(obs_space, \"original_space\", obs_space)\n",
    "\n",
    "        assert (\n",
    "                isinstance(orig_space, gym.spaces.Dict)\n",
    "                and \"action_mask\" in orig_space.spaces\n",
    "                and \"observations\" in orig_space.spaces\n",
    "        )\n",
    "\n",
    "        return CustomTFModel(\n",
    "            obs_space=orig_space,\n",
    "            action_space=self.action_space,\n",
    "            num_outputs=num_outputs,\n",
    "            model_config=policy_model_config,\n",
    "            name=name\n",
    "        )\n",
    "\n",
    "    def build_q_model(self, obs_space, action_space, num_outputs, q_model_config, name):\n",
    "        orig_space = getattr(obs_space, \"original_space\", obs_space)\n",
    "\n",
    "        assert (\n",
    "                isinstance(orig_space, gym.spaces.Dict)\n",
    "                and \"action_mask\" in orig_space.spaces\n",
    "                and \"observations\" in orig_space.spaces\n",
    "        )\n",
    "\n",
    "        return CustomTFModel(\n",
    "            obs_space=orig_space,\n",
    "            action_space=self.action_space,\n",
    "            num_outputs=num_outputs,\n",
    "            model_config=q_model_config,\n",
    "            name=name\n",
    "        )"
   ],
   "metadata": {
    "collapsed": false
   }
  },
  {
   "cell_type": "markdown",
   "source": [
    "# Train Masked Model"
   ],
   "metadata": {
    "collapsed": false
   }
  },
  {
   "cell_type": "code",
   "execution_count": 15,
   "outputs": [
    {
     "name": "stderr",
     "output_type": "stream",
     "text": [
      "2023-01-06 19:46:25,489\tINFO worker.py:1538 -- Started a local Ray instance.\n",
      "2023-01-06 19:46:26,871\tWARNING deprecation.py:47 -- DeprecationWarning: `algo = Algorithm(env='<class 'environments.knapsack.KnapsackEnv'>', ...)` has been deprecated. Use `algo = AlgorithmConfig().environment('<class 'environments.knapsack.KnapsackEnv'>').build()` instead. This will raise an error in the future!\n",
      "2023-01-06 19:46:29,208\tWARNING util.py:66 -- Install gputil for GPU system monitoring.\n"
     ]
    },
    {
     "name": "stdout",
     "output_type": "stream",
     "text": [
      "--- Policy Model ---\n",
      "Model: \"model_3\"\n",
      "__________________________________________________________________________________________________\n",
      " Layer (type)                   Output Shape         Param #     Connected to                     \n",
      "==================================================================================================\n",
      " observation_weights (InputLaye  [(None, 10)]        0           []                               \n",
      " r)                                                                                               \n",
      "                                                                                                  \n",
      " observation_values (InputLayer  [(None, 10)]        0           []                               \n",
      " )                                                                                                \n",
      "                                                                                                  \n",
      " observation_knapsack (InputLay  [(None, 1)]         0           []                               \n",
      " er)                                                                                              \n",
      "                                                                                                  \n",
      " concatenate_3 (Concatenate)    (None, 21)           0           ['observation_weights[0][0]',    \n",
      "                                                                  'observation_values[0][0]',     \n",
      "                                                                  'observation_knapsack[0][0]']   \n",
      "                                                                                                  \n",
      " hidden_1 (Dense)               (None, 256)          5632        ['concatenate_3[0][0]']          \n",
      "                                                                                                  \n",
      " hidden_2 (Dense)               (None, 256)          65792       ['hidden_1[0][0]']               \n",
      "                                                                                                  \n",
      " policy_out (Dense)             (None, 10)           2570        ['hidden_2[0][0]']               \n",
      "                                                                                                  \n",
      " value_out (Dense)              (None, 1)            257         ['hidden_2[0][0]']               \n",
      "                                                                                                  \n",
      "==================================================================================================\n",
      "Total params: 74,251\n",
      "Trainable params: 74,251\n",
      "Non-trainable params: 0\n",
      "__________________________________________________________________________________________________\n",
      "--- Q-Model Model ---\n",
      "Model: \"model_4\"\n",
      "__________________________________________________________________________________________________\n",
      " Layer (type)                   Output Shape         Param #     Connected to                     \n",
      "==================================================================================================\n",
      " observation_weights (InputLaye  [(None, 10)]        0           []                               \n",
      " r)                                                                                               \n",
      "                                                                                                  \n",
      " observation_values (InputLayer  [(None, 10)]        0           []                               \n",
      " )                                                                                                \n",
      "                                                                                                  \n",
      " observation_knapsack (InputLay  [(None, 1)]         0           []                               \n",
      " er)                                                                                              \n",
      "                                                                                                  \n",
      " concatenate_4 (Concatenate)    (None, 21)           0           ['observation_weights[0][0]',    \n",
      "                                                                  'observation_values[0][0]',     \n",
      "                                                                  'observation_knapsack[0][0]']   \n",
      "                                                                                                  \n",
      " hidden_1 (Dense)               (None, 256)          5632        ['concatenate_4[0][0]']          \n",
      "                                                                                                  \n",
      " hidden_2 (Dense)               (None, 256)          65792       ['hidden_1[0][0]']               \n",
      "                                                                                                  \n",
      " policy_out (Dense)             (None, 10)           2570        ['hidden_2[0][0]']               \n",
      "                                                                                                  \n",
      " value_out (Dense)              (None, 1)            257         ['hidden_2[0][0]']               \n",
      "                                                                                                  \n",
      "==================================================================================================\n",
      "Total params: 74,251\n",
      "Trainable params: 74,251\n",
      "Non-trainable params: 0\n",
      "__________________________________________________________________________________________________\n",
      "Iteration: 0, Average Returns: 12.8\n",
      "Iteration: 1, Average Returns: 13.2\n",
      "Iteration: 2, Average Returns: 13.6\n",
      "Iteration: 3, Average Returns: 16.6\n",
      "Iteration: 4, Average Returns: 14.4\n",
      "Iteration: 5, Average Returns: 15.0\n",
      "Iteration: 6, Average Returns: 9.4\n",
      "Iteration: 7, Average Returns: 15.6\n",
      "Iteration: 8, Average Returns: 17.4\n",
      "Iteration: 9, Average Returns: 13.8\n"
     ]
    },
    {
     "data": {
      "text/plain": "<Figure size 432x288 with 1 Axes>",
      "image/png": "[encoded data removed]"
     },
     "metadata": {
      "needs_background": "light"
     },
     "output_type": "display_data"
    },
    {
     "data": {
      "text/plain": "[12.8, 13.2, 13.6, 16.6, 14.4, 15.0, 9.4, 15.6, 17.4, 13.8]"
     },
     "execution_count": 15,
     "metadata": {},
     "output_type": "execute_result"
    }
   ],
   "source": [
    "ray.shutdown()\n",
    "ray.init()\n",
    "ModelCatalog.register_custom_model(\"sac_model\", SACCustomModel)\n",
    "tf.random.set_seed(seed=0)\n",
    "random.seed(0)\n",
    "agent = SAC(env=KnapsackEnv, config={\n",
    "    'env_config': {},\n",
    "    'model': {\n",
    "        'custom_model': 'sac_model',\n",
    "        'custom_model_config': {}\n",
    "    },\n",
    "    'replay_buffer_config' : {\n",
    "        \"type\": 'MultiAgentPrioritizedReplayBuffer',\n",
    "        'prioritized_replay': True,\n",
    "        \"capacity\": 50000,\n",
    "        'prioritized_replay_alpha': 0.6,\n",
    "        'prioritized_replay_beta': 0.4,\n",
    "        'prioritized_replay_eps': 1e-6,\n",
    "        'replay_sequence_length': 1,\n",
    "    },\n",
    "    'num_steps_sampled_before_learning_starts': 5000,\n",
    "    'target_network_update_freq': 1,\n",
    "    'tau': 0.005,\n",
    "    'train_batch_size': 256,\n",
    "    'n_step': 3,\n",
    "    'twin_q': True,\n",
    "    'initial_alpha': 1.0,\n",
    "    'target_entropy': 'auto',\n",
    "    'seed': 0,\n",
    "    'gamma': 0.99,\n",
    "    'lr': 0.001,\n",
    "    'num_gpus': 1\n",
    "})\n",
    "print('--- Policy Model ---')\n",
    "agent.get_policy().target_model.action_model.base_model.summary(expand_nested=True)\n",
    "print('--- Q-Model Model ---')\n",
    "agent.get_policy().target_model.q_net.base_model.summary(expand_nested=True)\n",
    "utils.train(agent=agent, train_iterations=10, eval_env=KnapsackEnv(env_config={}))"
   ],
   "metadata": {
    "collapsed": false
   }
  }
 ],
 "metadata": {
  "kernelspec": {
   "display_name": "Python 3",
   "language": "python",
   "name": "python3"
  },
  "language_info": {
   "codemirror_mode": {
    "name": "ipython",
    "version": 2
   },
   "file_extension": ".py",
   "mimetype": "text/x-python",
   "name": "python",
   "nbconvert_exporter": "python",
   "pygments_lexer": "ipython2",
   "version": "2.7.6"
  }
 },
 "nbformat": 4,
 "nbformat_minor": 0
}
