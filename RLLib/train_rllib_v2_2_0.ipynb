{
 "cells": [
  {
   "cell_type": "code",
   "execution_count": 6,
   "metadata": {
    "collapsed": true
   },
   "outputs": [
    {
     "name": "stderr",
     "output_type": "stream",
     "text": [
      "2023-01-24 11:34:13,535\tINFO worker.py:1538 -- Started a local Ray instance.\n",
      "\u001B[2m\u001B[36m(RolloutWorker pid=6340)\u001B[0m 2023-01-24 11:34:19,325\tWARNING env.py:147 -- Your env doesn't have a .spec.max_episode_steps attribute. This is fine if you have set 'horizon' in your config dictionary, or `soft_horizon`. However, if you haven't, 'horizon' will default to infinity, and your environment will not be reset.\n",
      "2023-01-24 11:34:21,844\tWARNING util.py:66 -- Install gputil for GPU system monitoring.\n"
     ]
    },
    {
     "name": "stdout",
     "output_type": "stream",
     "text": [
      "Model: \"model\"\n",
      "__________________________________________________________________________________________________\n",
      " Layer (type)                   Output Shape         Param #     Connected to                     \n",
      "==================================================================================================\n",
      " observations (InputLayer)      [(None, 4)]          0           []                               \n",
      "                                                                                                  \n",
      " hidden_1 (Dense)               (None, 256)          1280        ['observations[0][0]']           \n",
      "                                                                                                  \n",
      " hidden_2 (Dense)               (None, 256)          65792       ['hidden_1[0][0]']               \n",
      "                                                                                                  \n",
      " policy_out (Dense)             (None, 2)            514         ['hidden_2[0][0]']               \n",
      "                                                                                                  \n",
      " value_out (Dense)              (None, 1)            257         ['hidden_2[0][0]']               \n",
      "                                                                                                  \n",
      "==================================================================================================\n",
      "Total params: 67,843\n",
      "Trainable params: 67,843\n",
      "Non-trainable params: 0\n",
      "__________________________________________________________________________________________________\n",
      "Iteration: 0, Average Returns: 17.8\n",
      "Iteration: 1, Average Returns: 32.0\n",
      "Iteration: 2, Average Returns: 45.8\n",
      "Iteration: 3, Average Returns: 115.6\n",
      "Iteration: 4, Average Returns: 117.6\n",
      "Iteration: 5, Average Returns: 67.0\n",
      "Iteration: 6, Average Returns: 89.8\n",
      "Iteration: 7, Average Returns: 145.6\n",
      "Iteration: 8, Average Returns: 167.2\n",
      "Iteration: 9, Average Returns: 206.4\n",
      "Iteration: 10, Average Returns: 146.4\n",
      "Iteration: 11, Average Returns: 173.0\n",
      "Iteration: 12, Average Returns: 165.8\n",
      "Iteration: 13, Average Returns: 208.6\n",
      "Iteration: 14, Average Returns: 246.6\n",
      "Iteration: 15, Average Returns: 145.6\n",
      "Iteration: 16, Average Returns: 325.0\n",
      "Iteration: 17, Average Returns: 171.6\n",
      "Iteration: 18, Average Returns: 332.2\n",
      "Iteration: 19, Average Returns: 144.0\n",
      "Iteration: 20, Average Returns: 129.0\n",
      "Iteration: 21, Average Returns: 154.8\n",
      "Iteration: 22, Average Returns: 155.2\n",
      "Iteration: 23, Average Returns: 141.8\n",
      "Iteration: 24, Average Returns: 104.6\n",
      "Iteration: 25, Average Returns: 101.6\n",
      "Iteration: 26, Average Returns: 221.2\n",
      "Iteration: 27, Average Returns: 158.4\n",
      "Iteration: 28, Average Returns: 172.2\n",
      "Iteration: 29, Average Returns: 206.0\n",
      "Iteration: 30, Average Returns: 196.2\n",
      "Iteration: 31, Average Returns: 168.0\n",
      "Iteration: 32, Average Returns: 151.4\n",
      "Iteration: 33, Average Returns: 128.6\n",
      "Iteration: 34, Average Returns: 172.8\n",
      "Iteration: 35, Average Returns: 197.8\n",
      "Iteration: 36, Average Returns: 356.2\n",
      "Iteration: 37, Average Returns: 226.6\n",
      "Iteration: 38, Average Returns: 246.0\n",
      "Iteration: 39, Average Returns: 275.6\n",
      "Iteration: 40, Average Returns: 158.4\n",
      "Iteration: 41, Average Returns: 188.0\n",
      "Iteration: 42, Average Returns: 165.0\n",
      "Iteration: 43, Average Returns: 168.2\n",
      "Iteration: 44, Average Returns: 151.4\n",
      "Iteration: 45, Average Returns: 167.2\n",
      "Iteration: 46, Average Returns: 186.6\n",
      "Iteration: 47, Average Returns: 146.8\n",
      "Iteration: 48, Average Returns: 104.2\n",
      "Iteration: 49, Average Returns: 115.6\n"
     ]
    },
    {
     "data": {
      "text/plain": "<Figure size 432x288 with 1 Axes>",
      "image/png": "[encoded data removed]"
     },
     "metadata": {
      "needs_background": "light"
     },
     "output_type": "display_data"
    },
    {
     "data": {
      "text/plain": "[17.8,\n 32.0,\n 45.8,\n 115.6,\n 117.6,\n 67.0,\n 89.8,\n 145.6,\n 167.2,\n 206.4,\n 146.4,\n 173.0,\n 165.8,\n 208.6,\n 246.6,\n 145.6,\n 325.0,\n 171.6,\n 332.2,\n 144.0,\n 129.0,\n 154.8,\n 155.2,\n 141.8,\n 104.6,\n 101.6,\n 221.2,\n 158.4,\n 172.2,\n 206.0,\n 196.2,\n 168.0,\n 151.4,\n 128.6,\n 172.8,\n 197.8,\n 356.2,\n 226.6,\n 246.0,\n 275.6,\n 158.4,\n 188.0,\n 165.0,\n 168.2,\n 151.4,\n 167.2,\n 186.6,\n 146.8,\n 104.2,\n 115.6]"
     },
     "execution_count": 6,
     "metadata": {},
     "output_type": "execute_result"
    }
   ],
   "source": [
    "import random\n",
    "import ray\n",
    "import tensorflow as tf\n",
    "import utils\n",
    "from ray.rllib.algorithms.ppo import PPOConfig\n",
    "from ray.rllib.models import ModelCatalog\n",
    "from ray.rllib.models.tf.tf_modelv2 import TFModelV2\n",
    "from environments.cartpole import CartPoleEnv\n",
    "\n",
    "\n",
    "class PPOCustomModel(TFModelV2):\n",
    "    def __init__(self, obs_space, action_space, num_outputs, model_config, name):\n",
    "        super().__init__(\n",
    "            obs_space=obs_space,\n",
    "            action_space=action_space,\n",
    "            num_outputs=num_outputs,\n",
    "            model_config=model_config,\n",
    "            name=name\n",
    "        )\n",
    "\n",
    "        inputs = tf.keras.layers.Input(shape=obs_space.shape, name='observations')\n",
    "        x = tf.keras.layers.Dense(units=256, activation='tanh', name='hidden_1')(inputs)\n",
    "        x = tf.keras.layers.Dense(units=256, activation='tanh', name='hidden_2')(x)\n",
    "        policy_out = tf.keras.layers.Dense(units=num_outputs, name='policy_out')(x)\n",
    "        value_out = tf.keras.layers.Dense(units=1, name='value_out')(x)\n",
    "        self.base_model = tf.keras.Model(inputs, [policy_out, value_out])\n",
    "\n",
    "    def forward(self, input_dict, state, seq_lens):\n",
    "        model_out, self._value_out = self.base_model(input_dict[\"obs\"])\n",
    "        return model_out, state\n",
    "\n",
    "    def value_function(self):\n",
    "        return tf.reshape(self._value_out, [-1])\n",
    "\n",
    "\n",
    "ray.shutdown()\n",
    "ray.init()\n",
    "ModelCatalog.register_custom_model(\"ppo_model\", PPOCustomModel)\n",
    "tf.random.set_seed(seed=0)\n",
    "random.seed(0)\n",
    "\n",
    "model_config = {\n",
    "    'vf_share_layers': True,\n",
    "    'custom_model': 'ppo_model',\n",
    "    'custom_model_config': {}\n",
    "}\n",
    "agent_config = PPOConfig()\n",
    "agent_config.model = model_config\n",
    "agent_config.rollouts(num_rollout_workers=2, rollout_fragment_length=256)\n",
    "agent_config.batch_mode = 'complete_episodes'\n",
    "agent_config.use_critic = True\n",
    "agent_config.use_gae = True\n",
    "agent_config.clip_param = 0.3\n",
    "agent_config.entropy_coeff = 0.01\n",
    "agent_config.kl_coeff = 0.01\n",
    "agent_config.shuffle_sequences = True\n",
    "agent_config.num_sgd_iter = True\n",
    "agent_config.sgd_minibatch_size = 32\n",
    "agent_config.train_batch_size = 512\n",
    "agent_config.seed = 0\n",
    "agent_config.gamma = 0.99\n",
    "agent_config.lr = 0.0005\n",
    "agent_config.num_gpus = 1\n",
    "\n",
    "agent = agent_config.environment(env=CartPoleEnv, env_config={'verbose': False}).build()\n",
    "agent.get_policy().model.base_model.summary(expand_nested=True)\n",
    "utils.train(agent=agent, eval_env=CartPoleEnv(env_config={'verbose': False}))"
   ]
  },
  {
   "cell_type": "code",
   "execution_count": null,
   "outputs": [],
   "source": [],
   "metadata": {
    "collapsed": false
   }
  }
 ],
 "metadata": {
  "kernelspec": {
   "display_name": "Python 3",
   "language": "python",
   "name": "python3"
  },
  "language_info": {
   "codemirror_mode": {
    "name": "ipython",
    "version": 2
   },
   "file_extension": ".py",
   "mimetype": "text/x-python",
   "name": "python",
   "nbconvert_exporter": "python",
   "pygments_lexer": "ipython2",
   "version": "2.7.6"
  }
 },
 "nbformat": 4,
 "nbformat_minor": 0
}
