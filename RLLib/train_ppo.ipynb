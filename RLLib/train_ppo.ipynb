{
 "cells": [
  {
   "cell_type": "markdown",
   "source": [
    "# Libraries"
   ],
   "metadata": {
    "collapsed": false
   }
  },
  {
   "cell_type": "code",
   "execution_count": 1,
   "metadata": {
    "collapsed": true
   },
   "outputs": [],
   "source": [
    "import random\n",
    "import ray\n",
    "import tensorflow as tf\n",
    "import utils\n",
    "from ray.rllib.algorithms.ppo import PPO\n",
    "from ray.rllib.models import ModelCatalog\n",
    "from ray.rllib.models.tf.tf_modelv2 import TFModelV2\n",
    "from environments.cartpole import CartPoleEnv"
   ]
  },
  {
   "cell_type": "markdown",
   "source": [
    "# Custom Model"
   ],
   "metadata": {
    "collapsed": false
   }
  },
  {
   "cell_type": "code",
   "execution_count": 2,
   "outputs": [],
   "source": [
    "class PPOCustomModel(TFModelV2):\n",
    "    def __init__(self, obs_space, action_space, num_outputs, model_config, name):\n",
    "        super().__init__(\n",
    "            obs_space=obs_space,\n",
    "            action_space=action_space,\n",
    "            num_outputs=num_outputs,\n",
    "            model_config=model_config,\n",
    "            name=name\n",
    "        )\n",
    "\n",
    "        inputs = tf.keras.layers.Input(shape=obs_space.shape, name='observations')\n",
    "        x = tf.keras.layers.Dense(units=256, activation='tanh', name='hidden_1')(inputs)\n",
    "        x = tf.keras.layers.Dense(units=256, activation='tanh', name='hidden_2')(x)\n",
    "        policy_out = tf.keras.layers.Dense(units=num_outputs, name='policy_out')(x)\n",
    "        value_out = tf.keras.layers.Dense(units=1, name='value_out')(x)\n",
    "        self.base_model = tf.keras.Model(inputs, [policy_out, value_out])\n",
    "\n",
    "    def forward(self, input_dict, state, seq_lens):\n",
    "        model_out, self._value_out = self.base_model(input_dict[\"obs\"])\n",
    "        return model_out, state\n",
    "\n",
    "    def value_function(self):\n",
    "        return tf.reshape(self._value_out, [-1])\n"
   ],
   "metadata": {
    "collapsed": false
   }
  },
  {
   "cell_type": "markdown",
   "source": [
    "# Default Model Train"
   ],
   "metadata": {
    "collapsed": false
   }
  },
  {
   "cell_type": "code",
   "execution_count": 7,
   "outputs": [
    {
     "name": "stderr",
     "output_type": "stream",
     "text": [
      "2023-01-01 20:54:29,490\tINFO worker.py:1538 -- Started a local Ray instance.\n",
      "2023-01-01 20:54:31,920\tWARNING deprecation.py:47 -- DeprecationWarning: `algo = Algorithm(env='<class 'environments.cartpole.CartPoleEnv'>', ...)` has been deprecated. Use `algo = AlgorithmConfig().environment('<class 'environments.cartpole.CartPoleEnv'>').build()` instead. This will raise an error in the future!\n",
      "\u001B[2m\u001B[36m(RolloutWorker pid=14288)\u001B[0m 2023-01-01 20:54:42,129\tWARNING env.py:147 -- Your env doesn't have a .spec.max_episode_steps attribute. This is fine if you have set 'horizon' in your config dictionary, or `soft_horizon`. However, if you haven't, 'horizon' will default to infinity, and your environment will not be reset.\n",
      "2023-01-01 20:54:56,612\tINFO trainable.py:172 -- Trainable.setup took 24.582 seconds. If your trainable is slow to initialize, consider setting reuse_actors=True to reduce actor creation overheads.\n",
      "2023-01-01 20:54:56,614\tWARNING util.py:66 -- Install gputil for GPU system monitoring.\n"
     ]
    },
    {
     "name": "stdout",
     "output_type": "stream",
     "text": [
      "Model: \"model\"\n",
      "__________________________________________________________________________________________________\n",
      " Layer (type)                   Output Shape         Param #     Connected to                     \n",
      "==================================================================================================\n",
      " observations (InputLayer)      [(None, 4)]          0           []                               \n",
      "                                                                                                  \n",
      " fc_1 (Dense)                   (None, 256)          1280        ['observations[0][0]']           \n",
      "                                                                                                  \n",
      " fc_2 (Dense)                   (None, 256)          65792       ['fc_1[0][0]']                   \n",
      "                                                                                                  \n",
      " fc_out (Dense)                 (None, 2)            514         ['fc_2[0][0]']                   \n",
      "                                                                                                  \n",
      " value_out (Dense)              (None, 1)            257         ['fc_2[0][0]']                   \n",
      "                                                                                                  \n",
      "==================================================================================================\n",
      "Total params: 67,843\n",
      "Trainable params: 67,843\n",
      "Non-trainable params: 0\n",
      "__________________________________________________________________________________________________\n",
      "Iteration: 0, Average Returns: 53.4\n",
      "Iteration: 1, Average Returns: 84.6\n",
      "Iteration: 2, Average Returns: 167.8\n",
      "Iteration: 3, Average Returns: 150.2\n",
      "Iteration: 4, Average Returns: 234.6\n",
      "Iteration: 5, Average Returns: 168.8\n",
      "Iteration: 6, Average Returns: 215.0\n",
      "Iteration: 7, Average Returns: 154.2\n",
      "Iteration: 8, Average Returns: 174.4\n",
      "Iteration: 9, Average Returns: 204.2\n",
      "Iteration: 10, Average Returns: 137.2\n",
      "Iteration: 11, Average Returns: 151.6\n",
      "Iteration: 12, Average Returns: 214.4\n",
      "Iteration: 13, Average Returns: 210.0\n",
      "Iteration: 14, Average Returns: 326.4\n",
      "Iteration: 15, Average Returns: 321.6\n",
      "Iteration: 16, Average Returns: 196.2\n",
      "Iteration: 17, Average Returns: 140.8\n",
      "Iteration: 18, Average Returns: 144.8\n",
      "Iteration: 19, Average Returns: 294.6\n",
      "Iteration: 20, Average Returns: 110.6\n",
      "Iteration: 21, Average Returns: 351.8\n",
      "Iteration: 22, Average Returns: 464.8\n",
      "Iteration: 23, Average Returns: 255.2\n",
      "Iteration: 24, Average Returns: 402.6\n",
      "Iteration: 25, Average Returns: 269.2\n",
      "Iteration: 26, Average Returns: 200.2\n",
      "Iteration: 27, Average Returns: 303.2\n",
      "Iteration: 28, Average Returns: 159.6\n",
      "Iteration: 29, Average Returns: 209.0\n",
      "Iteration: 30, Average Returns: 275.8\n",
      "Iteration: 31, Average Returns: 325.4\n",
      "Iteration: 32, Average Returns: 253.2\n",
      "Iteration: 33, Average Returns: 452.6\n",
      "Iteration: 34, Average Returns: 500.0\n",
      "Iteration: 35, Average Returns: 500.0\n",
      "Iteration: 36, Average Returns: 480.4\n",
      "Iteration: 37, Average Returns: 500.0\n",
      "Iteration: 38, Average Returns: 320.0\n",
      "Iteration: 39, Average Returns: 400.4\n",
      "Iteration: 40, Average Returns: 500.0\n",
      "Iteration: 41, Average Returns: 481.4\n",
      "Iteration: 42, Average Returns: 500.0\n",
      "Iteration: 43, Average Returns: 352.0\n",
      "Iteration: 44, Average Returns: 405.2\n",
      "Iteration: 45, Average Returns: 379.2\n",
      "Iteration: 46, Average Returns: 430.8\n",
      "Iteration: 47, Average Returns: 500.0\n",
      "Iteration: 48, Average Returns: 500.0\n",
      "Iteration: 49, Average Returns: 500.0\n"
     ]
    },
    {
     "data": {
      "text/plain": "<Figure size 432x288 with 1 Axes>",
      "image/png": "[encoded data removed]"
     },
     "metadata": {
      "needs_background": "light"
     },
     "output_type": "display_data"
    },
    {
     "data": {
      "text/plain": "[53.4,\n 84.6,\n 167.8,\n 150.2,\n 234.6,\n 168.8,\n 215.0,\n 154.2,\n 174.4,\n 204.2,\n 137.2,\n 151.6,\n 214.4,\n 210.0,\n 326.4,\n 321.6,\n 196.2,\n 140.8,\n 144.8,\n 294.6,\n 110.6,\n 351.8,\n 464.8,\n 255.2,\n 402.6,\n 269.2,\n 200.2,\n 303.2,\n 159.6,\n 209.0,\n 275.8,\n 325.4,\n 253.2,\n 452.6,\n 500.0,\n 500.0,\n 480.4,\n 500.0,\n 320.0,\n 400.4,\n 500.0,\n 481.4,\n 500.0,\n 352.0,\n 405.2,\n 379.2,\n 430.8,\n 500.0,\n 500.0,\n 500.0]"
     },
     "execution_count": 7,
     "metadata": {},
     "output_type": "execute_result"
    }
   ],
   "source": [
    "ray.shutdown()\n",
    "ray.init()\n",
    "tf.random.set_seed(seed=0)\n",
    "random.seed(0)\n",
    "agent = PPO(env=CartPoleEnv, config={\n",
    "    'env_config': {'verbose': False},\n",
    "    'model': {\n",
    "        'vf_share_layers': True\n",
    "    },\n",
    "    'num_workers': 2,\n",
    "    'rollout_fragment_length': 256,\n",
    "    'num_envs_per_worker': 1,\n",
    "    'batch_mode': 'complete_episodes',\n",
    "    'use_critic': True,\n",
    "    'use_gae': True,\n",
    "    'lambda': 0.95,\n",
    "    'clip_param': 0.3,\n",
    "    'kl_coeff': 0.2,\n",
    "    'entropy_coeff': 0.01,\n",
    "    'kl_target': 0.01,\n",
    "    'vf_loss_coeff': 0.5,\n",
    "    'shuffle_sequences': True,\n",
    "    'num_sgd_iter': 40,\n",
    "    'sgd_minibatch_size': 32,\n",
    "    'train_batch_size': 512,\n",
    "    'seed': 0,\n",
    "    'gamma': 0.99,\n",
    "    'lr': 0.0005,\n",
    "    'num_gpus': 1\n",
    "})\n",
    "agent.get_policy().model.base_model.summary(expand_nested=True)\n",
    "utils.train(agent=agent, eval_env=CartPoleEnv(env_config={'verbose': False}))"
   ],
   "metadata": {
    "collapsed": false
   }
  },
  {
   "cell_type": "markdown",
   "source": [
    "# Custom Model Train"
   ],
   "metadata": {
    "collapsed": false
   }
  },
  {
   "cell_type": "code",
   "execution_count": 3,
   "outputs": [
    {
     "name": "stderr",
     "output_type": "stream",
     "text": [
      "2023-01-02 19:56:49,477\tINFO worker.py:1538 -- Started a local Ray instance.\n",
      "2023-01-02 19:56:56,693\tWARNING deprecation.py:47 -- DeprecationWarning: `algo = Algorithm(env='<class 'environments.cartpole.CartPoleEnv'>', ...)` has been deprecated. Use `algo = AlgorithmConfig().environment('<class 'environments.cartpole.CartPoleEnv'>').build()` instead. This will raise an error in the future!\n",
      "2023-01-02 19:56:56,694\tINFO algorithm_config.py:2503 -- Your framework setting is 'tf', meaning you are using static-graph mode. Set framework='tf2' to enable eager execution with tf2.x. You may also then want to set eager_tracing=True in order to reach similar execution speed as with static-graph mode.\n",
      "2023-01-02 19:56:56,753\tINFO algorithm.py:501 -- Current log_level is WARN. For more information, set 'log_level': 'INFO' / 'DEBUG' or use the -v and -vv flags.\n",
      "\u001B[2m\u001B[36m(RolloutWorker pid=6408)\u001B[0m 2023-01-02 19:57:14,640\tWARNING env.py:147 -- Your env doesn't have a .spec.max_episode_steps attribute. This is fine if you have set 'horizon' in your config dictionary, or `soft_horizon`. However, if you haven't, 'horizon' will default to infinity, and your environment will not be reset.\n",
      "2023-01-02 19:57:29,619\tINFO trainable.py:172 -- Trainable.setup took 32.872 seconds. If your trainable is slow to initialize, consider setting reuse_actors=True to reduce actor creation overheads.\n",
      "2023-01-02 19:57:29,622\tWARNING util.py:66 -- Install gputil for GPU system monitoring.\n"
     ]
    },
    {
     "name": "stdout",
     "output_type": "stream",
     "text": [
      "Model: \"model\"\n",
      "__________________________________________________________________________________________________\n",
      " Layer (type)                   Output Shape         Param #     Connected to                     \n",
      "==================================================================================================\n",
      " observations (InputLayer)      [(None, 4)]          0           []                               \n",
      "                                                                                                  \n",
      " hidden_1 (Dense)               (None, 256)          1280        ['observations[0][0]']           \n",
      "                                                                                                  \n",
      " hidden_2 (Dense)               (None, 256)          65792       ['hidden_1[0][0]']               \n",
      "                                                                                                  \n",
      " policy_out (Dense)             (None, 2)            514         ['hidden_2[0][0]']               \n",
      "                                                                                                  \n",
      " value_out (Dense)              (None, 1)            257         ['hidden_2[0][0]']               \n",
      "                                                                                                  \n",
      "==================================================================================================\n",
      "Total params: 67,843\n",
      "Trainable params: 67,843\n",
      "Non-trainable params: 0\n",
      "__________________________________________________________________________________________________\n",
      "Iteration: 0, Average Returns: 25.6\n",
      "Iteration: 1, Average Returns: 49.2\n",
      "Iteration: 2, Average Returns: 60.2\n",
      "Iteration: 3, Average Returns: 161.0\n",
      "Iteration: 4, Average Returns: 169.4\n",
      "Iteration: 5, Average Returns: 227.4\n",
      "Iteration: 6, Average Returns: 210.8\n",
      "Iteration: 7, Average Returns: 142.8\n",
      "Iteration: 8, Average Returns: 156.4\n",
      "Iteration: 9, Average Returns: 151.4\n",
      "Iteration: 10, Average Returns: 282.6\n",
      "Iteration: 11, Average Returns: 398.4\n",
      "Iteration: 12, Average Returns: 300.6\n",
      "Iteration: 13, Average Returns: 397.2\n",
      "Iteration: 14, Average Returns: 297.0\n",
      "Iteration: 15, Average Returns: 500.0\n",
      "Iteration: 16, Average Returns: 341.4\n",
      "Iteration: 17, Average Returns: 500.0\n",
      "Iteration: 18, Average Returns: 269.2\n",
      "Iteration: 19, Average Returns: 297.6\n",
      "Iteration: 20, Average Returns: 372.4\n",
      "Iteration: 21, Average Returns: 290.4\n",
      "Iteration: 22, Average Returns: 500.0\n",
      "Iteration: 23, Average Returns: 346.0\n",
      "Iteration: 24, Average Returns: 383.6\n",
      "Iteration: 25, Average Returns: 415.8\n",
      "Iteration: 26, Average Returns: 447.2\n",
      "Iteration: 27, Average Returns: 441.0\n",
      "Iteration: 28, Average Returns: 465.4\n",
      "Iteration: 29, Average Returns: 309.2\n",
      "Iteration: 30, Average Returns: 500.0\n",
      "Iteration: 31, Average Returns: 173.8\n",
      "Iteration: 32, Average Returns: 338.6\n",
      "Iteration: 33, Average Returns: 338.0\n",
      "Iteration: 34, Average Returns: 360.2\n",
      "Iteration: 35, Average Returns: 290.8\n",
      "Iteration: 36, Average Returns: 279.0\n",
      "Iteration: 37, Average Returns: 462.2\n",
      "Iteration: 38, Average Returns: 500.0\n",
      "Iteration: 39, Average Returns: 500.0\n",
      "Iteration: 40, Average Returns: 500.0\n",
      "Iteration: 41, Average Returns: 500.0\n",
      "Iteration: 42, Average Returns: 500.0\n",
      "Iteration: 43, Average Returns: 500.0\n",
      "Iteration: 44, Average Returns: 500.0\n",
      "Iteration: 45, Average Returns: 500.0\n",
      "Iteration: 46, Average Returns: 500.0\n",
      "Iteration: 47, Average Returns: 480.4\n",
      "Iteration: 48, Average Returns: 500.0\n",
      "Iteration: 49, Average Returns: 419.0\n"
     ]
    },
    {
     "data": {
      "text/plain": "<Figure size 432x288 with 1 Axes>",
      "image/png": "[encoded data removed]"
     },
     "metadata": {
      "needs_background": "light"
     },
     "output_type": "display_data"
    },
    {
     "data": {
      "text/plain": "[25.6,\n 49.2,\n 60.2,\n 161.0,\n 169.4,\n 227.4,\n 210.8,\n 142.8,\n 156.4,\n 151.4,\n 282.6,\n 398.4,\n 300.6,\n 397.2,\n 297.0,\n 500.0,\n 341.4,\n 500.0,\n 269.2,\n 297.6,\n 372.4,\n 290.4,\n 500.0,\n 346.0,\n 383.6,\n 415.8,\n 447.2,\n 441.0,\n 465.4,\n 309.2,\n 500.0,\n 173.8,\n 338.6,\n 338.0,\n 360.2,\n 290.8,\n 279.0,\n 462.2,\n 500.0,\n 500.0,\n 500.0,\n 500.0,\n 500.0,\n 500.0,\n 500.0,\n 500.0,\n 500.0,\n 480.4,\n 500.0,\n 419.0]"
     },
     "execution_count": 3,
     "metadata": {},
     "output_type": "execute_result"
    }
   ],
   "source": [
    "ray.shutdown()\n",
    "ray.init()\n",
    "ModelCatalog.register_custom_model(\"ppo_model\", PPOCustomModel)\n",
    "tf.random.set_seed(seed=0)\n",
    "random.seed(0)\n",
    "agent = PPO(env=CartPoleEnv, config={\n",
    "    'env_config': {'verbose': False},\n",
    "    'model': {\n",
    "        'vf_share_layers': True,\n",
    "        'custom_model': 'ppo_model',\n",
    "        'custom_model_config': {}\n",
    "    },\n",
    "    'num_workers': 2,\n",
    "    'rollout_fragment_length': 256,\n",
    "    'num_envs_per_worker': 1,\n",
    "    'batch_mode': 'complete_episodes',\n",
    "    'use_critic': True,\n",
    "    'use_gae': True,\n",
    "    'lambda': 0.95,\n",
    "    'clip_param': 0.3,\n",
    "    'kl_coeff': 0.2,\n",
    "    'entropy_coeff': 0.01,\n",
    "    'kl_target': 0.01,\n",
    "    'vf_loss_coeff': 0.5,\n",
    "    'shuffle_sequences': True,\n",
    "    'num_sgd_iter': 40,\n",
    "    'sgd_minibatch_size': 32,\n",
    "    'train_batch_size': 512,\n",
    "    'seed': 0,\n",
    "    'gamma': 0.99,\n",
    "    'lr': 0.0005,\n",
    "    'num_gpus': 1\n",
    "})\n",
    "agent.get_policy().model.base_model.summary(expand_nested=True)\n",
    "utils.train(agent=agent, eval_env=CartPoleEnv(env_config={'verbose': False}))"
   ],
   "metadata": {
    "collapsed": false
   }
  }
 ],
 "metadata": {
  "kernelspec": {
   "display_name": "Python 3",
   "language": "python",
   "name": "python3"
  },
  "language_info": {
   "codemirror_mode": {
    "name": "ipython",
    "version": 2
   },
   "file_extension": ".py",
   "mimetype": "text/x-python",
   "name": "python",
   "nbconvert_exporter": "python",
   "pygments_lexer": "ipython2",
   "version": "2.7.6"
  }
 },
 "nbformat": 4,
 "nbformat_minor": 0
}
